{
 "cells": [
  {
   "cell_type": "markdown",
   "metadata": {},
   "source": [
    "# Import Libraries"
   ]
  },
  {
   "cell_type": "code",
   "execution_count": 355,
   "metadata": {},
   "outputs": [],
   "source": [
    "import pandas as pd\n",
    "import numpy as np\n",
    "import calendar\n",
    "from datetime import datetime\n",
    "from matplotlib import dates as mpl_dates\n",
    "import matplotlib.pyplot as plt\n",
    "import seaborn as sns\n",
    "import timeit"
   ]
  },
  {
   "cell_type": "code",
   "execution_count": 303,
   "metadata": {},
   "outputs": [
    {
     "name": "stderr",
     "output_type": "stream",
     "text": [
      "C:\\Users\\JOSEP\\AppData\\Roaming\\Python\\Python39\\site-packages\\IPython\\core\\interactiveshell.py:3441: DtypeWarning: Columns (5,6,7,12) have mixed types.Specify dtype option on import or set low_memory=False.\n",
      "  exec(code_obj, self.user_global_ns, self.user_ns)\n"
     ]
    },
    {
     "data": {
      "text/html": [
       "<div>\n",
       "<style scoped>\n",
       "    .dataframe tbody tr th:only-of-type {\n",
       "        vertical-align: middle;\n",
       "    }\n",
       "\n",
       "    .dataframe tbody tr th {\n",
       "        vertical-align: top;\n",
       "    }\n",
       "\n",
       "    .dataframe thead th {\n",
       "        text-align: right;\n",
       "    }\n",
       "</style>\n",
       "<table border=\"1\" class=\"dataframe\">\n",
       "  <thead>\n",
       "    <tr style=\"text-align: right;\">\n",
       "      <th></th>\n",
       "      <th>user_name</th>\n",
       "      <th>user_location</th>\n",
       "      <th>user_description</th>\n",
       "      <th>user_created</th>\n",
       "      <th>user_followers</th>\n",
       "      <th>user_friends</th>\n",
       "      <th>user_favourites</th>\n",
       "      <th>user_verified</th>\n",
       "      <th>date</th>\n",
       "      <th>text</th>\n",
       "      <th>hashtags</th>\n",
       "      <th>source</th>\n",
       "      <th>is_retweet</th>\n",
       "    </tr>\n",
       "  </thead>\n",
       "  <tbody>\n",
       "    <tr>\n",
       "      <th>0</th>\n",
       "      <td>DeSota Wilson</td>\n",
       "      <td>Atlanta, GA</td>\n",
       "      <td>Biz Consultant, real estate, fintech, startups...</td>\n",
       "      <td>2009-04-26 20:05:09</td>\n",
       "      <td>8534.0</td>\n",
       "      <td>7605</td>\n",
       "      <td>4838</td>\n",
       "      <td>False</td>\n",
       "      <td>2021-02-10 23:59:04</td>\n",
       "      <td>Blue Ridge Bank shares halted by NYSE after #b...</td>\n",
       "      <td>['bitcoin']</td>\n",
       "      <td>Twitter Web App</td>\n",
       "      <td>False</td>\n",
       "    </tr>\n",
       "    <tr>\n",
       "      <th>1</th>\n",
       "      <td>CryptoND</td>\n",
       "      <td>NaN</td>\n",
       "      <td>😎 BITCOINLIVE is a Dutch platform aimed at inf...</td>\n",
       "      <td>2019-10-17 20:12:10</td>\n",
       "      <td>6769.0</td>\n",
       "      <td>1532</td>\n",
       "      <td>25483</td>\n",
       "      <td>False</td>\n",
       "      <td>2021-02-10 23:58:48</td>\n",
       "      <td>😎 Today, that's this #Thursday, we will do a \"...</td>\n",
       "      <td>['Thursday', 'Btc', 'wallet', 'security']</td>\n",
       "      <td>Twitter for Android</td>\n",
       "      <td>False</td>\n",
       "    </tr>\n",
       "    <tr>\n",
       "      <th>2</th>\n",
       "      <td>Tdlmatias</td>\n",
       "      <td>London, England</td>\n",
       "      <td>IM Academy : The best #forex, #SelfEducation, ...</td>\n",
       "      <td>2014-11-10 10:50:37</td>\n",
       "      <td>128.0</td>\n",
       "      <td>332</td>\n",
       "      <td>924</td>\n",
       "      <td>False</td>\n",
       "      <td>2021-02-10 23:54:48</td>\n",
       "      <td>Guys evening, I have read this article about B...</td>\n",
       "      <td>NaN</td>\n",
       "      <td>Twitter Web App</td>\n",
       "      <td>False</td>\n",
       "    </tr>\n",
       "    <tr>\n",
       "      <th>3</th>\n",
       "      <td>Crypto is the future</td>\n",
       "      <td>NaN</td>\n",
       "      <td>I will post a lot of buying signals for BTC tr...</td>\n",
       "      <td>2019-09-28 16:48:12</td>\n",
       "      <td>625.0</td>\n",
       "      <td>129</td>\n",
       "      <td>14</td>\n",
       "      <td>False</td>\n",
       "      <td>2021-02-10 23:54:33</td>\n",
       "      <td>$BTC A big chance in a billion! Price: \\487264...</td>\n",
       "      <td>['Bitcoin', 'FX', 'BTC', 'crypto']</td>\n",
       "      <td>dlvr.it</td>\n",
       "      <td>False</td>\n",
       "    </tr>\n",
       "    <tr>\n",
       "      <th>4</th>\n",
       "      <td>Alex Kirchmaier 🇦🇹🇸🇪 #FactsSuperspreader</td>\n",
       "      <td>Europa</td>\n",
       "      <td>Co-founder @RENJERJerky | Forbes 30Under30 | I...</td>\n",
       "      <td>2016-02-03 13:15:55</td>\n",
       "      <td>1249.0</td>\n",
       "      <td>1472</td>\n",
       "      <td>10482</td>\n",
       "      <td>False</td>\n",
       "      <td>2021-02-10 23:54:06</td>\n",
       "      <td>This network is secured by 9 508 nodes as of t...</td>\n",
       "      <td>['BTC']</td>\n",
       "      <td>Twitter Web App</td>\n",
       "      <td>False</td>\n",
       "    </tr>\n",
       "  </tbody>\n",
       "</table>\n",
       "</div>"
      ],
      "text/plain": [
       "                                  user_name    user_location  \\\n",
       "0                             DeSota Wilson      Atlanta, GA   \n",
       "1                                  CryptoND              NaN   \n",
       "2                                 Tdlmatias  London, England   \n",
       "3                      Crypto is the future              NaN   \n",
       "4  Alex Kirchmaier 🇦🇹🇸🇪 #FactsSuperspreader           Europa   \n",
       "\n",
       "                                    user_description         user_created  \\\n",
       "0  Biz Consultant, real estate, fintech, startups...  2009-04-26 20:05:09   \n",
       "1  😎 BITCOINLIVE is a Dutch platform aimed at inf...  2019-10-17 20:12:10   \n",
       "2  IM Academy : The best #forex, #SelfEducation, ...  2014-11-10 10:50:37   \n",
       "3  I will post a lot of buying signals for BTC tr...  2019-09-28 16:48:12   \n",
       "4  Co-founder @RENJERJerky | Forbes 30Under30 | I...  2016-02-03 13:15:55   \n",
       "\n",
       "   user_followers user_friends user_favourites user_verified  \\\n",
       "0          8534.0         7605            4838         False   \n",
       "1          6769.0         1532           25483         False   \n",
       "2           128.0          332             924         False   \n",
       "3           625.0          129              14         False   \n",
       "4          1249.0         1472           10482         False   \n",
       "\n",
       "                  date                                               text  \\\n",
       "0  2021-02-10 23:59:04  Blue Ridge Bank shares halted by NYSE after #b...   \n",
       "1  2021-02-10 23:58:48  😎 Today, that's this #Thursday, we will do a \"...   \n",
       "2  2021-02-10 23:54:48  Guys evening, I have read this article about B...   \n",
       "3  2021-02-10 23:54:33  $BTC A big chance in a billion! Price: \\487264...   \n",
       "4  2021-02-10 23:54:06  This network is secured by 9 508 nodes as of t...   \n",
       "\n",
       "                                    hashtags               source is_retweet  \n",
       "0                                ['bitcoin']      Twitter Web App      False  \n",
       "1  ['Thursday', 'Btc', 'wallet', 'security']  Twitter for Android      False  \n",
       "2                                        NaN      Twitter Web App      False  \n",
       "3         ['Bitcoin', 'FX', 'BTC', 'crypto']              dlvr.it      False  \n",
       "4                                    ['BTC']      Twitter Web App      False  "
      ]
     },
     "execution_count": 303,
     "metadata": {},
     "output_type": "execute_result"
    }
   ],
   "source": [
    "df = pd.read_csv('BTC_Tweets.csv')\n",
    "df.head()"
   ]
  },
  {
   "cell_type": "markdown",
   "metadata": {},
   "source": [
    "# Data Wrangling"
   ]
  },
  {
   "cell_type": "code",
   "execution_count": 304,
   "metadata": {},
   "outputs": [
    {
     "data": {
      "text/plain": [
       "(1751675, 13)"
      ]
     },
     "execution_count": 304,
     "metadata": {},
     "output_type": "execute_result"
    }
   ],
   "source": [
    "df.shape"
   ]
  },
  {
   "cell_type": "markdown",
   "metadata": {},
   "source": [
    "Check duplicated rows"
   ]
  },
  {
   "cell_type": "code",
   "execution_count": 305,
   "metadata": {},
   "outputs": [
    {
     "data": {
      "text/plain": [
       "False    1751671\n",
       "True           4\n",
       "dtype: int64"
      ]
     },
     "execution_count": 305,
     "metadata": {},
     "output_type": "execute_result"
    }
   ],
   "source": [
    "df.duplicated().value_counts()\n",
    "#Locate multiple duplicated col values\n",
    "#df.duplicated(subset=['user_location', 'user_created', 'user_verified'])"
   ]
  },
  {
   "cell_type": "markdown",
   "metadata": {},
   "source": [
    "Alternative"
   ]
  },
  {
   "cell_type": "code",
   "execution_count": 5,
   "metadata": {},
   "outputs": [
    {
     "data": {
      "text/plain": [
       "4"
      ]
     },
     "execution_count": 5,
     "metadata": {},
     "output_type": "execute_result"
    }
   ],
   "source": [
    "len(df[df.duplicated()])"
   ]
  },
  {
   "cell_type": "code",
   "execution_count": 6,
   "metadata": {},
   "outputs": [
    {
     "data": {
      "text/plain": [
       "1751671"
      ]
     },
     "execution_count": 6,
     "metadata": {},
     "output_type": "execute_result"
    }
   ],
   "source": [
    "#negation\n",
    "(~df.duplicated()).sum()"
   ]
  },
  {
   "cell_type": "markdown",
   "metadata": {},
   "source": [
    "Extracting duplicate rows with loc"
   ]
  },
  {
   "cell_type": "code",
   "execution_count": 306,
   "metadata": {},
   "outputs": [
    {
     "data": {
      "text/html": [
       "<div>\n",
       "<style scoped>\n",
       "    .dataframe tbody tr th:only-of-type {\n",
       "        vertical-align: middle;\n",
       "    }\n",
       "\n",
       "    .dataframe tbody tr th {\n",
       "        vertical-align: top;\n",
       "    }\n",
       "\n",
       "    .dataframe thead th {\n",
       "        text-align: right;\n",
       "    }\n",
       "</style>\n",
       "<table border=\"1\" class=\"dataframe\">\n",
       "  <thead>\n",
       "    <tr style=\"text-align: right;\">\n",
       "      <th></th>\n",
       "      <th>user_name</th>\n",
       "      <th>user_location</th>\n",
       "      <th>user_description</th>\n",
       "      <th>user_created</th>\n",
       "      <th>user_followers</th>\n",
       "      <th>user_friends</th>\n",
       "      <th>user_favourites</th>\n",
       "      <th>user_verified</th>\n",
       "      <th>date</th>\n",
       "      <th>text</th>\n",
       "      <th>hashtags</th>\n",
       "      <th>source</th>\n",
       "      <th>is_retweet</th>\n",
       "    </tr>\n",
       "  </thead>\n",
       "  <tbody>\n",
       "    <tr>\n",
       "      <th>1694990</th>\n",
       "      <td>smart.algoss</td>\n",
       "      <td>NaN</td>\n",
       "      <td>#️⃣ 1️⃣  trading network</td>\n",
       "      <td>NaN</td>\n",
       "      <td>NaN</td>\n",
       "      <td>NaN</td>\n",
       "      <td>NaN</td>\n",
       "      <td>NaN</td>\n",
       "      <td>NaN</td>\n",
       "      <td>NaN</td>\n",
       "      <td>NaN</td>\n",
       "      <td>NaN</td>\n",
       "      <td>NaN</td>\n",
       "    </tr>\n",
       "    <tr>\n",
       "      <th>1694991</th>\n",
       "      <td>🤖 unique crypto trading robots</td>\n",
       "      <td>NaN</td>\n",
       "      <td>NaN</td>\n",
       "      <td>NaN</td>\n",
       "      <td>NaN</td>\n",
       "      <td>NaN</td>\n",
       "      <td>NaN</td>\n",
       "      <td>NaN</td>\n",
       "      <td>NaN</td>\n",
       "      <td>NaN</td>\n",
       "      <td>NaN</td>\n",
       "      <td>NaN</td>\n",
       "      <td>NaN</td>\n",
       "    </tr>\n",
       "    <tr>\n",
       "      <th>1710879</th>\n",
       "      <td>smart.algoss</td>\n",
       "      <td>NaN</td>\n",
       "      <td>#️⃣ 1️⃣  trading network</td>\n",
       "      <td>NaN</td>\n",
       "      <td>NaN</td>\n",
       "      <td>NaN</td>\n",
       "      <td>NaN</td>\n",
       "      <td>NaN</td>\n",
       "      <td>NaN</td>\n",
       "      <td>NaN</td>\n",
       "      <td>NaN</td>\n",
       "      <td>NaN</td>\n",
       "      <td>NaN</td>\n",
       "    </tr>\n",
       "    <tr>\n",
       "      <th>1710880</th>\n",
       "      <td>🤖 unique crypto trading robots</td>\n",
       "      <td>NaN</td>\n",
       "      <td>NaN</td>\n",
       "      <td>NaN</td>\n",
       "      <td>NaN</td>\n",
       "      <td>NaN</td>\n",
       "      <td>NaN</td>\n",
       "      <td>NaN</td>\n",
       "      <td>NaN</td>\n",
       "      <td>NaN</td>\n",
       "      <td>NaN</td>\n",
       "      <td>NaN</td>\n",
       "      <td>NaN</td>\n",
       "    </tr>\n",
       "  </tbody>\n",
       "</table>\n",
       "</div>"
      ],
      "text/plain": [
       "                              user_name user_location  \\\n",
       "1694990                    smart.algoss           NaN   \n",
       "1694991  🤖 unique crypto trading robots           NaN   \n",
       "1710879                    smart.algoss           NaN   \n",
       "1710880  🤖 unique crypto trading robots           NaN   \n",
       "\n",
       "                  user_description user_created  user_followers user_friends  \\\n",
       "1694990  #️⃣ 1️⃣  trading network           NaN             NaN          NaN   \n",
       "1694991                        NaN          NaN             NaN          NaN   \n",
       "1710879  #️⃣ 1️⃣  trading network           NaN             NaN          NaN   \n",
       "1710880                        NaN          NaN             NaN          NaN   \n",
       "\n",
       "        user_favourites user_verified date text hashtags source is_retweet  \n",
       "1694990             NaN           NaN  NaN  NaN      NaN    NaN        NaN  \n",
       "1694991             NaN           NaN  NaN  NaN      NaN    NaN        NaN  \n",
       "1710879             NaN           NaN  NaN  NaN      NaN    NaN        NaN  \n",
       "1710880             NaN           NaN  NaN  NaN      NaN    NaN        NaN  "
      ]
     },
     "execution_count": 306,
     "metadata": {},
     "output_type": "execute_result"
    }
   ],
   "source": [
    "#Source https://towardsdatascience.com/finding-and-removing-duplicate-rows-in-pandas-dataframe-c6117668631f\n",
    "df.loc[df.duplicated(), :]"
   ]
  },
  {
   "cell_type": "markdown",
   "metadata": {},
   "source": [
    "Dropping duplicate rows"
   ]
  },
  {
   "cell_type": "code",
   "execution_count": 311,
   "metadata": {},
   "outputs": [
    {
     "data": {
      "text/plain": [
       "False    1751671\n",
       "dtype: int64"
      ]
     },
     "execution_count": 311,
     "metadata": {},
     "output_type": "execute_result"
    }
   ],
   "source": [
    "df = df.drop_duplicates()\n",
    "#Drop duplicates from original source\n",
    "#df.drop_duplicates(inplace=True)\n",
    "df.duplicated().value_counts()"
   ]
  },
  {
   "cell_type": "markdown",
   "metadata": {},
   "source": [
    "## Drop NaN values"
   ]
  },
  {
   "cell_type": "code",
   "execution_count": 312,
   "metadata": {},
   "outputs": [
    {
     "data": {
      "text/plain": [
       "user_name               27\n",
       "user_location       843310\n",
       "user_description    206836\n",
       "user_created            22\n",
       "user_followers          42\n",
       "user_friends            42\n",
       "user_favourites         42\n",
       "user_verified           42\n",
       "date                    42\n",
       "text                    42\n",
       "hashtags             16999\n",
       "source                3569\n",
       "is_retweet             255\n",
       "dtype: int64"
      ]
     },
     "execution_count": 312,
     "metadata": {},
     "output_type": "execute_result"
    }
   ],
   "source": [
    "df.isna().sum()"
   ]
  },
  {
   "cell_type": "markdown",
   "metadata": {},
   "source": [
    "Back up of NaN rows"
   ]
  },
  {
   "cell_type": "code",
   "execution_count": 313,
   "metadata": {},
   "outputs": [
    {
     "data": {
      "text/plain": [
       "(892229, 13)"
      ]
     },
     "execution_count": 313,
     "metadata": {},
     "output_type": "execute_result"
    }
   ],
   "source": [
    "nan_df=df[df.isna().any(axis=1)]\n",
    "nan_df.shape"
   ]
  },
  {
   "cell_type": "code",
   "execution_count": 314,
   "metadata": {},
   "outputs": [
    {
     "data": {
      "text/plain": [
       "False    1751629\n",
       "True          42\n",
       "Name: date, dtype: int64"
      ]
     },
     "execution_count": 314,
     "metadata": {},
     "output_type": "execute_result"
    }
   ],
   "source": [
    "df['date'].isna().value_counts()\n",
    "#df.loc[df.isna(), :]\n",
    "#df = df[''].dropna()"
   ]
  },
  {
   "cell_type": "markdown",
   "metadata": {},
   "source": [
    "Drop NaN rows in 'date' col\n"
   ]
  },
  {
   "cell_type": "code",
   "execution_count": 315,
   "metadata": {},
   "outputs": [
    {
     "data": {
      "text/plain": [
       "False    1751629\n",
       "Name: date, dtype: int64"
      ]
     },
     "execution_count": 315,
     "metadata": {},
     "output_type": "execute_result"
    }
   ],
   "source": [
    "#Source https://www.kite.com/python/answers/how-to-drop-empty-rows-from-a-pandas-dataframe-in-python\n",
    "df.dropna(subset=['date'], inplace=True)\n",
    "df['date'].isna().value_counts()"
   ]
  },
  {
   "cell_type": "code",
   "execution_count": 316,
   "metadata": {},
   "outputs": [
    {
     "data": {
      "text/plain": [
       "user_name               27\n",
       "user_location       843288\n",
       "user_description    206817\n",
       "user_created             0\n",
       "user_followers           0\n",
       "user_friends             0\n",
       "user_favourites          0\n",
       "user_verified            0\n",
       "date                     0\n",
       "text                     0\n",
       "hashtags             16957\n",
       "source                3527\n",
       "is_retweet             213\n",
       "dtype: int64"
      ]
     },
     "execution_count": 316,
     "metadata": {},
     "output_type": "execute_result"
    }
   ],
   "source": [
    "df.isna().sum()"
   ]
  },
  {
   "cell_type": "code",
   "execution_count": 317,
   "metadata": {},
   "outputs": [
    {
     "data": {
      "text/plain": [
       "user_name            object\n",
       "user_location        object\n",
       "user_description     object\n",
       "user_created         object\n",
       "user_followers      float64\n",
       "user_friends         object\n",
       "user_favourites      object\n",
       "user_verified        object\n",
       "date                 object\n",
       "text                 object\n",
       "hashtags             object\n",
       "source               object\n",
       "is_retweet           object\n",
       "dtype: object"
      ]
     },
     "execution_count": 317,
     "metadata": {},
     "output_type": "execute_result"
    }
   ],
   "source": [
    "df.dtypes"
   ]
  },
  {
   "cell_type": "code",
   "execution_count": 318,
   "metadata": {},
   "outputs": [
    {
     "data": {
      "text/html": [
       "<div>\n",
       "<style scoped>\n",
       "    .dataframe tbody tr th:only-of-type {\n",
       "        vertical-align: middle;\n",
       "    }\n",
       "\n",
       "    .dataframe tbody tr th {\n",
       "        vertical-align: top;\n",
       "    }\n",
       "\n",
       "    .dataframe thead th {\n",
       "        text-align: right;\n",
       "    }\n",
       "</style>\n",
       "<table border=\"1\" class=\"dataframe\">\n",
       "  <thead>\n",
       "    <tr style=\"text-align: right;\">\n",
       "      <th></th>\n",
       "      <th>user_name</th>\n",
       "      <th>user_location</th>\n",
       "      <th>user_description</th>\n",
       "      <th>user_created</th>\n",
       "      <th>user_followers</th>\n",
       "      <th>user_friends</th>\n",
       "      <th>user_favourites</th>\n",
       "      <th>user_verified</th>\n",
       "      <th>date</th>\n",
       "      <th>text</th>\n",
       "      <th>hashtags</th>\n",
       "      <th>source</th>\n",
       "      <th>is_retweet</th>\n",
       "    </tr>\n",
       "  </thead>\n",
       "  <tbody>\n",
       "    <tr>\n",
       "      <th>360518</th>\n",
       "      <td>Reuters</td>\n",
       "      <td>Around the world</td>\n",
       "      <td>Top and breaking news, pictures and videos fro...</td>\n",
       "      <td>2007-03-20 17:46:05</td>\n",
       "      <td>23597283.0</td>\n",
       "      <td>1167.0</td>\n",
       "      <td>755.0</td>\n",
       "      <td>True</td>\n",
       "      <td>2021-07-23 15:34:38</td>\n",
       "      <td>Japanese tennis star Naomi Osaka lights the #O...</td>\n",
       "      <td>['OlympicGames', 'Tokyo2020']</td>\n",
       "      <td>Twitter Web App</td>\n",
       "      <td>False</td>\n",
       "    </tr>\n",
       "    <tr>\n",
       "      <th>358521</th>\n",
       "      <td>Reuters</td>\n",
       "      <td>Around the world</td>\n",
       "      <td>Top and breaking news, pictures and videos fro...</td>\n",
       "      <td>2007-03-20 17:46:05</td>\n",
       "      <td>23597270.0</td>\n",
       "      <td>1167.0</td>\n",
       "      <td>755.0</td>\n",
       "      <td>True</td>\n",
       "      <td>2021-07-23 21:13:40</td>\n",
       "      <td>With typhoon season around the corner for Toky...</td>\n",
       "      <td>['OlympicGames']</td>\n",
       "      <td>SocialFlow</td>\n",
       "      <td>False</td>\n",
       "    </tr>\n",
       "    <tr>\n",
       "      <th>187221</th>\n",
       "      <td>Reuters</td>\n",
       "      <td>Around the world</td>\n",
       "      <td>Top and breaking news, pictures and videos fro...</td>\n",
       "      <td>2007-03-20 17:46:05</td>\n",
       "      <td>23494917.0</td>\n",
       "      <td>1168</td>\n",
       "      <td>754</td>\n",
       "      <td>True</td>\n",
       "      <td>2021-06-22 11:20:05</td>\n",
       "      <td>#Bitcoin regained some ground, a day after tou...</td>\n",
       "      <td>['Bitcoin']</td>\n",
       "      <td>SocialFlow</td>\n",
       "      <td>False</td>\n",
       "    </tr>\n",
       "    <tr>\n",
       "      <th>1126917</th>\n",
       "      <td>Forbes</td>\n",
       "      <td>New York, NY</td>\n",
       "      <td>Official account of Forbes, the world’s leadin...</td>\n",
       "      <td>2009-11-21 02:09:57</td>\n",
       "      <td>17006282.0</td>\n",
       "      <td>5166.0</td>\n",
       "      <td>10200.0</td>\n",
       "      <td>True</td>\n",
       "      <td>2021-08-25 14:37:47</td>\n",
       "      <td>Chelsea Manning is back and has her sights set...</td>\n",
       "      <td>['Bitcoin']</td>\n",
       "      <td>SocialFlow</td>\n",
       "      <td>False</td>\n",
       "    </tr>\n",
       "    <tr>\n",
       "      <th>1118364</th>\n",
       "      <td>Forbes</td>\n",
       "      <td>New York, NY</td>\n",
       "      <td>Official account of Forbes, the world’s leadin...</td>\n",
       "      <td>2009-11-21 02:09:57</td>\n",
       "      <td>17006200.0</td>\n",
       "      <td>5166.0</td>\n",
       "      <td>10200.0</td>\n",
       "      <td>True</td>\n",
       "      <td>2021-08-25 19:07:34</td>\n",
       "      <td>Chelsea Manning is back and has her sights set...</td>\n",
       "      <td>['Bitcoin']</td>\n",
       "      <td>SocialFlow</td>\n",
       "      <td>False</td>\n",
       "    </tr>\n",
       "    <tr>\n",
       "      <th>...</th>\n",
       "      <td>...</td>\n",
       "      <td>...</td>\n",
       "      <td>...</td>\n",
       "      <td>...</td>\n",
       "      <td>...</td>\n",
       "      <td>...</td>\n",
       "      <td>...</td>\n",
       "      <td>...</td>\n",
       "      <td>...</td>\n",
       "      <td>...</td>\n",
       "      <td>...</td>\n",
       "      <td>...</td>\n",
       "      <td>...</td>\n",
       "    </tr>\n",
       "    <tr>\n",
       "      <th>443212</th>\n",
       "      <td>Akash rai</td>\n",
       "      <td>NaN</td>\n",
       "      <td>NaN</td>\n",
       "      <td>2021-06-29 19:37:37</td>\n",
       "      <td>0.0</td>\n",
       "      <td>1.0</td>\n",
       "      <td>0.0</td>\n",
       "      <td>False</td>\n",
       "      <td>2021-07-22 02:33:04</td>\n",
       "      <td>i am in love with #crypto 😍😍 #bitcoin #etherum...</td>\n",
       "      <td>['crypto', 'bitcoin', 'etherum', 'dogecoin', '...</td>\n",
       "      <td>Twitter for Android</td>\n",
       "      <td>False</td>\n",
       "    </tr>\n",
       "    <tr>\n",
       "      <th>1310733</th>\n",
       "      <td>Fetro Agg</td>\n",
       "      <td>Sweden</td>\n",
       "      <td>\"My passion is for you to become the best vers...</td>\n",
       "      <td>2021-07-31 18:25:50</td>\n",
       "      <td>0.0</td>\n",
       "      <td>0.0</td>\n",
       "      <td>1.0</td>\n",
       "      <td>False</td>\n",
       "      <td>2021-10-19 15:20:52</td>\n",
       "      <td>Do you want to retire early and get rich with ...</td>\n",
       "      <td>['etherium', 'ETH', 'BNB', 'BTC']</td>\n",
       "      <td>Twitter Web App</td>\n",
       "      <td>False</td>\n",
       "    </tr>\n",
       "    <tr>\n",
       "      <th>1036824</th>\n",
       "      <td>Alts_Millionaire</td>\n",
       "      <td>NaN</td>\n",
       "      <td>Self made millionaire finding and trading alts...</td>\n",
       "      <td>2021-08-19 13:47:17</td>\n",
       "      <td>0.0</td>\n",
       "      <td>0.0</td>\n",
       "      <td>0.0</td>\n",
       "      <td>False</td>\n",
       "      <td>2021-08-19 15:23:59</td>\n",
       "      <td>Once I get followers I'll start sharing my cur...</td>\n",
       "      <td>['crypto', 'XRP', 'BTC', 'ETH', 'DeFi']</td>\n",
       "      <td>Twitter Web App</td>\n",
       "      <td>False</td>\n",
       "    </tr>\n",
       "    <tr>\n",
       "      <th>156539</th>\n",
       "      <td>Heir Cryptonaire</td>\n",
       "      <td>NaN</td>\n",
       "      <td>NaN</td>\n",
       "      <td>2021-03-04 14:35:36</td>\n",
       "      <td>0.0</td>\n",
       "      <td>0</td>\n",
       "      <td>77</td>\n",
       "      <td>False</td>\n",
       "      <td>2021-06-23 00:59:00</td>\n",
       "      <td>#Bitcoin #Ethereum #SOLANA #ATOM #BNB #FTT You...</td>\n",
       "      <td>['Bitcoin', 'Ethereum', 'SOLANA', 'ATOM', 'BNB...</td>\n",
       "      <td>Twitter for iPhone</td>\n",
       "      <td>False</td>\n",
       "    </tr>\n",
       "    <tr>\n",
       "      <th>544975</th>\n",
       "      <td>halawala</td>\n",
       "      <td>Kuwait ❤️</td>\n",
       "      <td>متداول عملات وبتكوين 💪</td>\n",
       "      <td>2020-10-09 09:44:21</td>\n",
       "      <td>0.0</td>\n",
       "      <td>10.0</td>\n",
       "      <td>7.0</td>\n",
       "      <td>False</td>\n",
       "      <td>2021-07-18 18:32:44</td>\n",
       "      <td>#CoinMarketCap #Crypto #Cryptocurrency #Bitcoi...</td>\n",
       "      <td>['CoinMarketCap', 'Crypto', 'Cryptocurrency', ...</td>\n",
       "      <td>Twitter for Android</td>\n",
       "      <td>False</td>\n",
       "    </tr>\n",
       "  </tbody>\n",
       "</table>\n",
       "<p>1751629 rows × 13 columns</p>\n",
       "</div>"
      ],
      "text/plain": [
       "                user_name     user_location  \\\n",
       "360518            Reuters  Around the world   \n",
       "358521            Reuters  Around the world   \n",
       "187221            Reuters  Around the world   \n",
       "1126917            Forbes      New York, NY   \n",
       "1118364            Forbes      New York, NY   \n",
       "...                   ...               ...   \n",
       "443212          Akash rai               NaN   \n",
       "1310733         Fetro Agg            Sweden   \n",
       "1036824  Alts_Millionaire               NaN   \n",
       "156539   Heir Cryptonaire               NaN   \n",
       "544975           halawala         Kuwait ❤️   \n",
       "\n",
       "                                          user_description  \\\n",
       "360518   Top and breaking news, pictures and videos fro...   \n",
       "358521   Top and breaking news, pictures and videos fro...   \n",
       "187221   Top and breaking news, pictures and videos fro...   \n",
       "1126917  Official account of Forbes, the world’s leadin...   \n",
       "1118364  Official account of Forbes, the world’s leadin...   \n",
       "...                                                    ...   \n",
       "443212                                                 NaN   \n",
       "1310733  \"My passion is for you to become the best vers...   \n",
       "1036824  Self made millionaire finding and trading alts...   \n",
       "156539                                                 NaN   \n",
       "544975                              متداول عملات وبتكوين 💪   \n",
       "\n",
       "                user_created  user_followers user_friends user_favourites  \\\n",
       "360518   2007-03-20 17:46:05      23597283.0       1167.0           755.0   \n",
       "358521   2007-03-20 17:46:05      23597270.0       1167.0           755.0   \n",
       "187221   2007-03-20 17:46:05      23494917.0         1168             754   \n",
       "1126917  2009-11-21 02:09:57      17006282.0       5166.0         10200.0   \n",
       "1118364  2009-11-21 02:09:57      17006200.0       5166.0         10200.0   \n",
       "...                      ...             ...          ...             ...   \n",
       "443212   2021-06-29 19:37:37             0.0          1.0             0.0   \n",
       "1310733  2021-07-31 18:25:50             0.0          0.0             1.0   \n",
       "1036824  2021-08-19 13:47:17             0.0          0.0             0.0   \n",
       "156539   2021-03-04 14:35:36             0.0            0              77   \n",
       "544975   2020-10-09 09:44:21             0.0         10.0             7.0   \n",
       "\n",
       "        user_verified                 date  \\\n",
       "360518           True  2021-07-23 15:34:38   \n",
       "358521           True  2021-07-23 21:13:40   \n",
       "187221           True  2021-06-22 11:20:05   \n",
       "1126917          True  2021-08-25 14:37:47   \n",
       "1118364          True  2021-08-25 19:07:34   \n",
       "...               ...                  ...   \n",
       "443212          False  2021-07-22 02:33:04   \n",
       "1310733         False  2021-10-19 15:20:52   \n",
       "1036824         False  2021-08-19 15:23:59   \n",
       "156539          False  2021-06-23 00:59:00   \n",
       "544975          False  2021-07-18 18:32:44   \n",
       "\n",
       "                                                      text  \\\n",
       "360518   Japanese tennis star Naomi Osaka lights the #O...   \n",
       "358521   With typhoon season around the corner for Toky...   \n",
       "187221   #Bitcoin regained some ground, a day after tou...   \n",
       "1126917  Chelsea Manning is back and has her sights set...   \n",
       "1118364  Chelsea Manning is back and has her sights set...   \n",
       "...                                                    ...   \n",
       "443212   i am in love with #crypto 😍😍 #bitcoin #etherum...   \n",
       "1310733  Do you want to retire early and get rich with ...   \n",
       "1036824  Once I get followers I'll start sharing my cur...   \n",
       "156539   #Bitcoin #Ethereum #SOLANA #ATOM #BNB #FTT You...   \n",
       "544975   #CoinMarketCap #Crypto #Cryptocurrency #Bitcoi...   \n",
       "\n",
       "                                                  hashtags  \\\n",
       "360518                       ['OlympicGames', 'Tokyo2020']   \n",
       "358521                                    ['OlympicGames']   \n",
       "187221                                         ['Bitcoin']   \n",
       "1126917                                        ['Bitcoin']   \n",
       "1118364                                        ['Bitcoin']   \n",
       "...                                                    ...   \n",
       "443212   ['crypto', 'bitcoin', 'etherum', 'dogecoin', '...   \n",
       "1310733                  ['etherium', 'ETH', 'BNB', 'BTC']   \n",
       "1036824            ['crypto', 'XRP', 'BTC', 'ETH', 'DeFi']   \n",
       "156539   ['Bitcoin', 'Ethereum', 'SOLANA', 'ATOM', 'BNB...   \n",
       "544975   ['CoinMarketCap', 'Crypto', 'Cryptocurrency', ...   \n",
       "\n",
       "                      source is_retweet  \n",
       "360518       Twitter Web App      False  \n",
       "358521            SocialFlow      False  \n",
       "187221            SocialFlow      False  \n",
       "1126917           SocialFlow      False  \n",
       "1118364           SocialFlow      False  \n",
       "...                      ...        ...  \n",
       "443212   Twitter for Android      False  \n",
       "1310733      Twitter Web App      False  \n",
       "1036824      Twitter Web App      False  \n",
       "156539    Twitter for iPhone      False  \n",
       "544975   Twitter for Android      False  \n",
       "\n",
       "[1751629 rows x 13 columns]"
      ]
     },
     "execution_count": 318,
     "metadata": {},
     "output_type": "execute_result"
    }
   ],
   "source": [
    "df.sort_values(by=['user_followers'], ascending=False)"
   ]
  },
  {
   "cell_type": "markdown",
   "metadata": {},
   "source": [
    "Data type error: ValueError: could not convert string to float: 'False'\n"
   ]
  },
  {
   "cell_type": "markdown",
   "metadata": {},
   "source": [
    "We can't convert 'user_friends' type from object to float64 because there are some string values"
   ]
  },
  {
   "cell_type": "code",
   "execution_count": 16,
   "metadata": {},
   "outputs": [],
   "source": [
    "#df['user_friends'] = df['user_friends'].astype('float64')\n",
    "#df.dtypes"
   ]
  },
  {
   "cell_type": "markdown",
   "metadata": {},
   "source": [
    "There are some 'False' values in column 'user_friends'"
   ]
  },
  {
   "cell_type": "code",
   "execution_count": 319,
   "metadata": {},
   "outputs": [
    {
     "data": {
      "text/plain": [
       "12"
      ]
     },
     "execution_count": 319,
     "metadata": {},
     "output_type": "execute_result"
    }
   ],
   "source": [
    "#df.loc[df['user_friends'] == 'False', :].sort_values(by='user_friends', ascending=False)\n",
    "#df.loc[df['user_friends'] == 'False', :].value_counts()\n",
    "(df['user_friends']=='False').sum()"
   ]
  },
  {
   "cell_type": "code",
   "execution_count": 320,
   "metadata": {},
   "outputs": [
    {
     "data": {
      "text/html": [
       "<div>\n",
       "<style scoped>\n",
       "    .dataframe tbody tr th:only-of-type {\n",
       "        vertical-align: middle;\n",
       "    }\n",
       "\n",
       "    .dataframe tbody tr th {\n",
       "        vertical-align: top;\n",
       "    }\n",
       "\n",
       "    .dataframe thead th {\n",
       "        text-align: right;\n",
       "    }\n",
       "</style>\n",
       "<table border=\"1\" class=\"dataframe\">\n",
       "  <thead>\n",
       "    <tr style=\"text-align: right;\">\n",
       "      <th></th>\n",
       "      <th>user_name</th>\n",
       "      <th>user_location</th>\n",
       "      <th>user_description</th>\n",
       "      <th>user_created</th>\n",
       "      <th>user_followers</th>\n",
       "      <th>user_friends</th>\n",
       "      <th>user_favourites</th>\n",
       "      <th>user_verified</th>\n",
       "      <th>date</th>\n",
       "      <th>text</th>\n",
       "      <th>hashtags</th>\n",
       "      <th>source</th>\n",
       "      <th>is_retweet</th>\n",
       "    </tr>\n",
       "  </thead>\n",
       "  <tbody>\n",
       "    <tr>\n",
       "      <th>64943</th>\n",
       "      <td>Can roam the world，It's nine to five againᵕᴗᵕ)...</td>\n",
       "      <td>2020-11-09 19:44:24</td>\n",
       "      <td>9</td>\n",
       "      <td>141</td>\n",
       "      <td>36.0</td>\n",
       "      <td>False</td>\n",
       "      <td>2021-04-07 16:23:03</td>\n",
       "      <td>@krakenfx  #ETH #BTC  If you want to become po...</td>\n",
       "      <td>['ETH', 'BTC', 'Bitcoin']</td>\n",
       "      <td>Twitter Web App</td>\n",
       "      <td>False</td>\n",
       "      <td>NaN</td>\n",
       "      <td>NaN</td>\n",
       "    </tr>\n",
       "    <tr>\n",
       "      <th>137068</th>\n",
       "      <td>*Muhammad Yasir* hello stalker nice to tweet ...</td>\n",
       "      <td>2009-08-31 07:40:42</td>\n",
       "      <td>280.0</td>\n",
       "      <td>623</td>\n",
       "      <td>499.0</td>\n",
       "      <td>False</td>\n",
       "      <td>2021-06-23 14:51:12</td>\n",
       "      <td>Official ESHOP Airdrop. If You Missed Meme Tok...</td>\n",
       "      <td>['cryptocurrency', 'BSC', 'Bitcoin', 'Ethereum...</td>\n",
       "      <td>Twitter for Android</td>\n",
       "      <td>False</td>\n",
       "      <td>NaN</td>\n",
       "      <td>NaN</td>\n",
       "    </tr>\n",
       "    <tr>\n",
       "      <th>180575</th>\n",
       "      <td>• Learn n To Do d'Best...!!!!!!!!</td>\n",
       "      <td>2010-08-16 10:55:09</td>\n",
       "      <td>52.0</td>\n",
       "      <td>277</td>\n",
       "      <td>127.0</td>\n",
       "      <td>False</td>\n",
       "      <td>2021-06-22 13:31:16</td>\n",
       "      <td>@pufferswap Nice project\\n\\n@karnoto_hendrik \\...</td>\n",
       "      <td>['YieldFarming', 'Airdrop', 'Binance', 'Bitcoi...</td>\n",
       "      <td>Twitter Web App</td>\n",
       "      <td>False</td>\n",
       "      <td>NaN</td>\n",
       "      <td>NaN</td>\n",
       "    </tr>\n",
       "    <tr>\n",
       "      <th>693194</th>\n",
       "      <td>FB- Xiomara Castañeda</td>\n",
       "      <td>2015-12-21 18:17:12</td>\n",
       "      <td>9.0</td>\n",
       "      <td>81</td>\n",
       "      <td>531.0</td>\n",
       "      <td>False</td>\n",
       "      <td>2021-07-26 11:54:15</td>\n",
       "      <td>#btc to the moon 🚀🚀 77774</td>\n",
       "      <td>['btc']</td>\n",
       "      <td>Twitter Web App</td>\n",
       "      <td>False</td>\n",
       "      <td>NaN</td>\n",
       "      <td>NaN</td>\n",
       "    </tr>\n",
       "    <tr>\n",
       "      <th>697397</th>\n",
       "      <td>Pin bb : 26ea62f8 . Line : baliratih_bali</td>\n",
       "      <td>2012-06-01 01:08:25</td>\n",
       "      <td>4.0</td>\n",
       "      <td>110</td>\n",
       "      <td>21.0</td>\n",
       "      <td>False</td>\n",
       "      <td>2021-07-26 11:48:46</td>\n",
       "      <td>#btc to the moon 🚀🚀 46059</td>\n",
       "      <td>['btc']</td>\n",
       "      <td>Twitter Web App</td>\n",
       "      <td>False</td>\n",
       "      <td>NaN</td>\n",
       "      <td>NaN</td>\n",
       "    </tr>\n",
       "    <tr>\n",
       "      <th>1067665</th>\n",
       "      <td>YOU'LL NEVER WALK ALONE</td>\n",
       "      <td>2012-08-29 10:32:29</td>\n",
       "      <td>71.0</td>\n",
       "      <td>314</td>\n",
       "      <td>1968.0</td>\n",
       "      <td>False</td>\n",
       "      <td>2021-08-16 16:39:27</td>\n",
       "      <td>@DogCakeFinance @DogCakeFinance Great project\\...</td>\n",
       "      <td>['YieldFarming', 'Airdrop', 'PancakeSwap', 'Gi...</td>\n",
       "      <td>Twitter for Android</td>\n",
       "      <td>False</td>\n",
       "      <td>NaN</td>\n",
       "      <td>NaN</td>\n",
       "    </tr>\n",
       "    <tr>\n",
       "      <th>1347699</th>\n",
       "      <td>amp=l</td>\n",
       "      <td>2013-01-02 07:40:53</td>\n",
       "      <td>9.0</td>\n",
       "      <td>33</td>\n",
       "      <td>0.0</td>\n",
       "      <td>False</td>\n",
       "      <td>2021-10-22 21:33:06</td>\n",
       "      <td>@bloodgoodBTC5\\n\\n#Bitcoin   \\n\\nShort term tr...</td>\n",
       "      <td>['Bitcoin']</td>\n",
       "      <td>Twitter for iPhone</td>\n",
       "      <td>False</td>\n",
       "      <td>NaN</td>\n",
       "      <td>NaN</td>\n",
       "    </tr>\n",
       "    <tr>\n",
       "      <th>1393938</th>\n",
       "      <td>💰 based on the latest AI innovations</td>\n",
       "      <td>2021-03-31 11:02:58</td>\n",
       "      <td>4.0</td>\n",
       "      <td>26</td>\n",
       "      <td>0.0</td>\n",
       "      <td>False</td>\n",
       "      <td>2021-10-21 18:12:08</td>\n",
       "      <td>🤯Mind-blowing 99.7% of all Bitcoin holders are...</td>\n",
       "      <td>['cryptotrading', 'crypto', 'tradingbots', 'bi...</td>\n",
       "      <td>Twitter for iPhone</td>\n",
       "      <td>False</td>\n",
       "      <td>NaN</td>\n",
       "      <td>NaN</td>\n",
       "    </tr>\n",
       "    <tr>\n",
       "      <th>1513853</th>\n",
       "      <td>My_Facebook http://t.co/tof8V41sTA</td>\n",
       "      <td>2012-08-24 20:37:55</td>\n",
       "      <td>285.0</td>\n",
       "      <td>933</td>\n",
       "      <td>389.0</td>\n",
       "      <td>False</td>\n",
       "      <td>2021-10-29 08:22:59</td>\n",
       "      <td>@pythonwealth Good Project 🎉🎉🎉🎉\\n\\n@nurull_pad...</td>\n",
       "      <td>['PW', 'pythonwealth', 'Presale', 'token', 'ic...</td>\n",
       "      <td>Twitter Web App</td>\n",
       "      <td>False</td>\n",
       "      <td>NaN</td>\n",
       "      <td>NaN</td>\n",
       "    </tr>\n",
       "    <tr>\n",
       "      <th>1611513</th>\n",
       "      <td>https://t.co/atJqp3g7I2</td>\n",
       "      <td>2014-11-16 20:10:32</td>\n",
       "      <td>2.0</td>\n",
       "      <td>32</td>\n",
       "      <td>20.0</td>\n",
       "      <td>False</td>\n",
       "      <td>2021-11-06 04:05:58</td>\n",
       "      <td>@iftikharpost the world is flat #bitcoin 💪</td>\n",
       "      <td>['bitcoin']</td>\n",
       "      <td>Twitter for iPhone</td>\n",
       "      <td>False</td>\n",
       "      <td>NaN</td>\n",
       "      <td>NaN</td>\n",
       "    </tr>\n",
       "    <tr>\n",
       "      <th>1694992</th>\n",
       "      <td>💰 based on the latest AI innovations</td>\n",
       "      <td>2021-03-31 11:02:58</td>\n",
       "      <td>5.0</td>\n",
       "      <td>26</td>\n",
       "      <td>0.0</td>\n",
       "      <td>False</td>\n",
       "      <td>2021-11-12 21:37:16</td>\n",
       "      <td>😎Eliminate the FOMO Factor and Automate Your T...</td>\n",
       "      <td>['cryptotrading', 'tradingbots', 'altcoins', '...</td>\n",
       "      <td>Twitter for iPhone</td>\n",
       "      <td>False</td>\n",
       "      <td>NaN</td>\n",
       "      <td>NaN</td>\n",
       "    </tr>\n",
       "    <tr>\n",
       "      <th>1710881</th>\n",
       "      <td>💰 based on the latest AI innovations</td>\n",
       "      <td>2021-03-31 11:02:58</td>\n",
       "      <td>5.0</td>\n",
       "      <td>26</td>\n",
       "      <td>0.0</td>\n",
       "      <td>False</td>\n",
       "      <td>2021-11-12 13:58:51</td>\n",
       "      <td>🔐How to Protect Your Crypto?\\n\\n💡Use a passwor...</td>\n",
       "      <td>['cryptotrading', 'tradingbots', 'altcoins', '...</td>\n",
       "      <td>Twitter for iPhone</td>\n",
       "      <td>False</td>\n",
       "      <td>NaN</td>\n",
       "      <td>NaN</td>\n",
       "    </tr>\n",
       "  </tbody>\n",
       "</table>\n",
       "</div>"
      ],
      "text/plain": [
       "                                                 user_name  \\\n",
       "64943    Can roam the world，It's nine to five againᵕᴗᵕ)...   \n",
       "137068    *Muhammad Yasir* hello stalker nice to tweet ...   \n",
       "180575                   • Learn n To Do d'Best...!!!!!!!!   \n",
       "693194                               FB- Xiomara Castañeda   \n",
       "697397           Pin bb : 26ea62f8 . Line : baliratih_bali   \n",
       "1067665                            YOU'LL NEVER WALK ALONE   \n",
       "1347699                                              amp=l   \n",
       "1393938               💰 based on the latest AI innovations   \n",
       "1513853                 My_Facebook http://t.co/tof8V41sTA   \n",
       "1611513                            https://t.co/atJqp3g7I2   \n",
       "1694992               💰 based on the latest AI innovations   \n",
       "1710881               💰 based on the latest AI innovations   \n",
       "\n",
       "               user_location user_description user_created  user_followers  \\\n",
       "64943    2020-11-09 19:44:24                9          141            36.0   \n",
       "137068   2009-08-31 07:40:42            280.0          623           499.0   \n",
       "180575   2010-08-16 10:55:09             52.0          277           127.0   \n",
       "693194   2015-12-21 18:17:12              9.0           81           531.0   \n",
       "697397   2012-06-01 01:08:25              4.0          110            21.0   \n",
       "1067665  2012-08-29 10:32:29             71.0          314          1968.0   \n",
       "1347699  2013-01-02 07:40:53              9.0           33             0.0   \n",
       "1393938  2021-03-31 11:02:58              4.0           26             0.0   \n",
       "1513853  2012-08-24 20:37:55            285.0          933           389.0   \n",
       "1611513  2014-11-16 20:10:32              2.0           32            20.0   \n",
       "1694992  2021-03-31 11:02:58              5.0           26             0.0   \n",
       "1710881  2021-03-31 11:02:58              5.0           26             0.0   \n",
       "\n",
       "        user_friends      user_favourites  \\\n",
       "64943          False  2021-04-07 16:23:03   \n",
       "137068         False  2021-06-23 14:51:12   \n",
       "180575         False  2021-06-22 13:31:16   \n",
       "693194         False  2021-07-26 11:54:15   \n",
       "697397         False  2021-07-26 11:48:46   \n",
       "1067665        False  2021-08-16 16:39:27   \n",
       "1347699        False  2021-10-22 21:33:06   \n",
       "1393938        False  2021-10-21 18:12:08   \n",
       "1513853        False  2021-10-29 08:22:59   \n",
       "1611513        False  2021-11-06 04:05:58   \n",
       "1694992        False  2021-11-12 21:37:16   \n",
       "1710881        False  2021-11-12 13:58:51   \n",
       "\n",
       "                                             user_verified  \\\n",
       "64943    @krakenfx  #ETH #BTC  If you want to become po...   \n",
       "137068   Official ESHOP Airdrop. If You Missed Meme Tok...   \n",
       "180575   @pufferswap Nice project\\n\\n@karnoto_hendrik \\...   \n",
       "693194                           #btc to the moon 🚀🚀 77774   \n",
       "697397                           #btc to the moon 🚀🚀 46059   \n",
       "1067665  @DogCakeFinance @DogCakeFinance Great project\\...   \n",
       "1347699  @bloodgoodBTC5\\n\\n#Bitcoin   \\n\\nShort term tr...   \n",
       "1393938  🤯Mind-blowing 99.7% of all Bitcoin holders are...   \n",
       "1513853  @pythonwealth Good Project 🎉🎉🎉🎉\\n\\n@nurull_pad...   \n",
       "1611513         @iftikharpost the world is flat #bitcoin 💪   \n",
       "1694992  😎Eliminate the FOMO Factor and Automate Your T...   \n",
       "1710881  🔐How to Protect Your Crypto?\\n\\n💡Use a passwor...   \n",
       "\n",
       "                                                      date  \\\n",
       "64943                            ['ETH', 'BTC', 'Bitcoin']   \n",
       "137068   ['cryptocurrency', 'BSC', 'Bitcoin', 'Ethereum...   \n",
       "180575   ['YieldFarming', 'Airdrop', 'Binance', 'Bitcoi...   \n",
       "693194                                             ['btc']   \n",
       "697397                                             ['btc']   \n",
       "1067665  ['YieldFarming', 'Airdrop', 'PancakeSwap', 'Gi...   \n",
       "1347699                                        ['Bitcoin']   \n",
       "1393938  ['cryptotrading', 'crypto', 'tradingbots', 'bi...   \n",
       "1513853  ['PW', 'pythonwealth', 'Presale', 'token', 'ic...   \n",
       "1611513                                        ['bitcoin']   \n",
       "1694992  ['cryptotrading', 'tradingbots', 'altcoins', '...   \n",
       "1710881  ['cryptotrading', 'tradingbots', 'altcoins', '...   \n",
       "\n",
       "                        text hashtags source is_retweet  \n",
       "64943        Twitter Web App    False    NaN        NaN  \n",
       "137068   Twitter for Android    False    NaN        NaN  \n",
       "180575       Twitter Web App    False    NaN        NaN  \n",
       "693194       Twitter Web App    False    NaN        NaN  \n",
       "697397       Twitter Web App    False    NaN        NaN  \n",
       "1067665  Twitter for Android    False    NaN        NaN  \n",
       "1347699   Twitter for iPhone    False    NaN        NaN  \n",
       "1393938   Twitter for iPhone    False    NaN        NaN  \n",
       "1513853      Twitter Web App    False    NaN        NaN  \n",
       "1611513   Twitter for iPhone    False    NaN        NaN  \n",
       "1694992   Twitter for iPhone    False    NaN        NaN  \n",
       "1710881   Twitter for iPhone    False    NaN        NaN  "
      ]
     },
     "execution_count": 320,
     "metadata": {},
     "output_type": "execute_result"
    }
   ],
   "source": [
    "df.loc[df['user_friends'] == 'False', :]"
   ]
  },
  {
   "cell_type": "code",
   "execution_count": 321,
   "metadata": {},
   "outputs": [
    {
     "data": {
      "text/plain": [
       "True     540305\n",
       "False     97212\n",
       "Name: user_friends, dtype: int64"
      ]
     },
     "execution_count": 321,
     "metadata": {},
     "output_type": "execute_result"
    }
   ],
   "source": [
    "df['user_friends'].str.isnumeric().value_counts()"
   ]
  },
  {
   "cell_type": "code",
   "execution_count": 322,
   "metadata": {},
   "outputs": [
    {
     "data": {
      "text/plain": [
       "0          False\n",
       "1          False\n",
       "2          False\n",
       "3          False\n",
       "4          False\n",
       "           ...  \n",
       "1751670    False\n",
       "1751671    False\n",
       "1751672    False\n",
       "1751673    False\n",
       "1751674    False\n",
       "Name: user_friends, Length: 1751629, dtype: bool"
      ]
     },
     "execution_count": 322,
     "metadata": {},
     "output_type": "execute_result"
    }
   ],
   "source": [
    "#bad_rows = df['user_friends'].apply(lambda x: 0 if x.str.isnumeric()==False or x.str.isnumeric() == 'NaN' else 1)\n",
    "#bad_rows = df['user_friends'].str.isnumeric()\n",
    "#bad_rows.value_counts()\n",
    "\n",
    "#df.applymap(lambda x: isinstance(x['user_friends'], (int, float)))\n",
    "df[\"user_friends\"].apply(np.isreal)"
   ]
  },
  {
   "cell_type": "markdown",
   "metadata": {},
   "source": [
    "Convert to numeric using 'coerce' which fills bad values with 'nan' in a new column just to compare both columns"
   ]
  },
  {
   "cell_type": "code",
   "execution_count": 323,
   "metadata": {},
   "outputs": [
    {
     "data": {
      "text/html": [
       "<div>\n",
       "<style scoped>\n",
       "    .dataframe tbody tr th:only-of-type {\n",
       "        vertical-align: middle;\n",
       "    }\n",
       "\n",
       "    .dataframe tbody tr th {\n",
       "        vertical-align: top;\n",
       "    }\n",
       "\n",
       "    .dataframe thead th {\n",
       "        text-align: right;\n",
       "    }\n",
       "</style>\n",
       "<table border=\"1\" class=\"dataframe\">\n",
       "  <thead>\n",
       "    <tr style=\"text-align: right;\">\n",
       "      <th></th>\n",
       "      <th>user_name</th>\n",
       "      <th>user_location</th>\n",
       "      <th>user_description</th>\n",
       "      <th>user_created</th>\n",
       "      <th>user_followers</th>\n",
       "      <th>user_friends</th>\n",
       "      <th>user_favourites</th>\n",
       "      <th>user_verified</th>\n",
       "      <th>date</th>\n",
       "      <th>text</th>\n",
       "      <th>hashtags</th>\n",
       "      <th>source</th>\n",
       "      <th>is_retweet</th>\n",
       "      <th>user_friends_numeric</th>\n",
       "    </tr>\n",
       "  </thead>\n",
       "  <tbody>\n",
       "    <tr>\n",
       "      <th>64943</th>\n",
       "      <td>Can roam the world，It's nine to five againᵕᴗᵕ)...</td>\n",
       "      <td>2020-11-09 19:44:24</td>\n",
       "      <td>9</td>\n",
       "      <td>141</td>\n",
       "      <td>36.0</td>\n",
       "      <td>False</td>\n",
       "      <td>2021-04-07 16:23:03</td>\n",
       "      <td>@krakenfx  #ETH #BTC  If you want to become po...</td>\n",
       "      <td>['ETH', 'BTC', 'Bitcoin']</td>\n",
       "      <td>Twitter Web App</td>\n",
       "      <td>False</td>\n",
       "      <td>NaN</td>\n",
       "      <td>NaN</td>\n",
       "      <td>NaN</td>\n",
       "    </tr>\n",
       "    <tr>\n",
       "      <th>137068</th>\n",
       "      <td>*Muhammad Yasir* hello stalker nice to tweet ...</td>\n",
       "      <td>2009-08-31 07:40:42</td>\n",
       "      <td>280.0</td>\n",
       "      <td>623</td>\n",
       "      <td>499.0</td>\n",
       "      <td>False</td>\n",
       "      <td>2021-06-23 14:51:12</td>\n",
       "      <td>Official ESHOP Airdrop. If You Missed Meme Tok...</td>\n",
       "      <td>['cryptocurrency', 'BSC', 'Bitcoin', 'Ethereum...</td>\n",
       "      <td>Twitter for Android</td>\n",
       "      <td>False</td>\n",
       "      <td>NaN</td>\n",
       "      <td>NaN</td>\n",
       "      <td>NaN</td>\n",
       "    </tr>\n",
       "    <tr>\n",
       "      <th>180575</th>\n",
       "      <td>• Learn n To Do d'Best...!!!!!!!!</td>\n",
       "      <td>2010-08-16 10:55:09</td>\n",
       "      <td>52.0</td>\n",
       "      <td>277</td>\n",
       "      <td>127.0</td>\n",
       "      <td>False</td>\n",
       "      <td>2021-06-22 13:31:16</td>\n",
       "      <td>@pufferswap Nice project\\n\\n@karnoto_hendrik \\...</td>\n",
       "      <td>['YieldFarming', 'Airdrop', 'Binance', 'Bitcoi...</td>\n",
       "      <td>Twitter Web App</td>\n",
       "      <td>False</td>\n",
       "      <td>NaN</td>\n",
       "      <td>NaN</td>\n",
       "      <td>NaN</td>\n",
       "    </tr>\n",
       "    <tr>\n",
       "      <th>693194</th>\n",
       "      <td>FB- Xiomara Castañeda</td>\n",
       "      <td>2015-12-21 18:17:12</td>\n",
       "      <td>9.0</td>\n",
       "      <td>81</td>\n",
       "      <td>531.0</td>\n",
       "      <td>False</td>\n",
       "      <td>2021-07-26 11:54:15</td>\n",
       "      <td>#btc to the moon 🚀🚀 77774</td>\n",
       "      <td>['btc']</td>\n",
       "      <td>Twitter Web App</td>\n",
       "      <td>False</td>\n",
       "      <td>NaN</td>\n",
       "      <td>NaN</td>\n",
       "      <td>NaN</td>\n",
       "    </tr>\n",
       "    <tr>\n",
       "      <th>697397</th>\n",
       "      <td>Pin bb : 26ea62f8 . Line : baliratih_bali</td>\n",
       "      <td>2012-06-01 01:08:25</td>\n",
       "      <td>4.0</td>\n",
       "      <td>110</td>\n",
       "      <td>21.0</td>\n",
       "      <td>False</td>\n",
       "      <td>2021-07-26 11:48:46</td>\n",
       "      <td>#btc to the moon 🚀🚀 46059</td>\n",
       "      <td>['btc']</td>\n",
       "      <td>Twitter Web App</td>\n",
       "      <td>False</td>\n",
       "      <td>NaN</td>\n",
       "      <td>NaN</td>\n",
       "      <td>NaN</td>\n",
       "    </tr>\n",
       "    <tr>\n",
       "      <th>1067665</th>\n",
       "      <td>YOU'LL NEVER WALK ALONE</td>\n",
       "      <td>2012-08-29 10:32:29</td>\n",
       "      <td>71.0</td>\n",
       "      <td>314</td>\n",
       "      <td>1968.0</td>\n",
       "      <td>False</td>\n",
       "      <td>2021-08-16 16:39:27</td>\n",
       "      <td>@DogCakeFinance @DogCakeFinance Great project\\...</td>\n",
       "      <td>['YieldFarming', 'Airdrop', 'PancakeSwap', 'Gi...</td>\n",
       "      <td>Twitter for Android</td>\n",
       "      <td>False</td>\n",
       "      <td>NaN</td>\n",
       "      <td>NaN</td>\n",
       "      <td>NaN</td>\n",
       "    </tr>\n",
       "    <tr>\n",
       "      <th>1347699</th>\n",
       "      <td>amp=l</td>\n",
       "      <td>2013-01-02 07:40:53</td>\n",
       "      <td>9.0</td>\n",
       "      <td>33</td>\n",
       "      <td>0.0</td>\n",
       "      <td>False</td>\n",
       "      <td>2021-10-22 21:33:06</td>\n",
       "      <td>@bloodgoodBTC5\\n\\n#Bitcoin   \\n\\nShort term tr...</td>\n",
       "      <td>['Bitcoin']</td>\n",
       "      <td>Twitter for iPhone</td>\n",
       "      <td>False</td>\n",
       "      <td>NaN</td>\n",
       "      <td>NaN</td>\n",
       "      <td>NaN</td>\n",
       "    </tr>\n",
       "    <tr>\n",
       "      <th>1393938</th>\n",
       "      <td>💰 based on the latest AI innovations</td>\n",
       "      <td>2021-03-31 11:02:58</td>\n",
       "      <td>4.0</td>\n",
       "      <td>26</td>\n",
       "      <td>0.0</td>\n",
       "      <td>False</td>\n",
       "      <td>2021-10-21 18:12:08</td>\n",
       "      <td>🤯Mind-blowing 99.7% of all Bitcoin holders are...</td>\n",
       "      <td>['cryptotrading', 'crypto', 'tradingbots', 'bi...</td>\n",
       "      <td>Twitter for iPhone</td>\n",
       "      <td>False</td>\n",
       "      <td>NaN</td>\n",
       "      <td>NaN</td>\n",
       "      <td>NaN</td>\n",
       "    </tr>\n",
       "    <tr>\n",
       "      <th>1513853</th>\n",
       "      <td>My_Facebook http://t.co/tof8V41sTA</td>\n",
       "      <td>2012-08-24 20:37:55</td>\n",
       "      <td>285.0</td>\n",
       "      <td>933</td>\n",
       "      <td>389.0</td>\n",
       "      <td>False</td>\n",
       "      <td>2021-10-29 08:22:59</td>\n",
       "      <td>@pythonwealth Good Project 🎉🎉🎉🎉\\n\\n@nurull_pad...</td>\n",
       "      <td>['PW', 'pythonwealth', 'Presale', 'token', 'ic...</td>\n",
       "      <td>Twitter Web App</td>\n",
       "      <td>False</td>\n",
       "      <td>NaN</td>\n",
       "      <td>NaN</td>\n",
       "      <td>NaN</td>\n",
       "    </tr>\n",
       "    <tr>\n",
       "      <th>1611513</th>\n",
       "      <td>https://t.co/atJqp3g7I2</td>\n",
       "      <td>2014-11-16 20:10:32</td>\n",
       "      <td>2.0</td>\n",
       "      <td>32</td>\n",
       "      <td>20.0</td>\n",
       "      <td>False</td>\n",
       "      <td>2021-11-06 04:05:58</td>\n",
       "      <td>@iftikharpost the world is flat #bitcoin 💪</td>\n",
       "      <td>['bitcoin']</td>\n",
       "      <td>Twitter for iPhone</td>\n",
       "      <td>False</td>\n",
       "      <td>NaN</td>\n",
       "      <td>NaN</td>\n",
       "      <td>NaN</td>\n",
       "    </tr>\n",
       "    <tr>\n",
       "      <th>1694992</th>\n",
       "      <td>💰 based on the latest AI innovations</td>\n",
       "      <td>2021-03-31 11:02:58</td>\n",
       "      <td>5.0</td>\n",
       "      <td>26</td>\n",
       "      <td>0.0</td>\n",
       "      <td>False</td>\n",
       "      <td>2021-11-12 21:37:16</td>\n",
       "      <td>😎Eliminate the FOMO Factor and Automate Your T...</td>\n",
       "      <td>['cryptotrading', 'tradingbots', 'altcoins', '...</td>\n",
       "      <td>Twitter for iPhone</td>\n",
       "      <td>False</td>\n",
       "      <td>NaN</td>\n",
       "      <td>NaN</td>\n",
       "      <td>NaN</td>\n",
       "    </tr>\n",
       "    <tr>\n",
       "      <th>1710881</th>\n",
       "      <td>💰 based on the latest AI innovations</td>\n",
       "      <td>2021-03-31 11:02:58</td>\n",
       "      <td>5.0</td>\n",
       "      <td>26</td>\n",
       "      <td>0.0</td>\n",
       "      <td>False</td>\n",
       "      <td>2021-11-12 13:58:51</td>\n",
       "      <td>🔐How to Protect Your Crypto?\\n\\n💡Use a passwor...</td>\n",
       "      <td>['cryptotrading', 'tradingbots', 'altcoins', '...</td>\n",
       "      <td>Twitter for iPhone</td>\n",
       "      <td>False</td>\n",
       "      <td>NaN</td>\n",
       "      <td>NaN</td>\n",
       "      <td>NaN</td>\n",
       "    </tr>\n",
       "  </tbody>\n",
       "</table>\n",
       "</div>"
      ],
      "text/plain": [
       "                                                 user_name  \\\n",
       "64943    Can roam the world，It's nine to five againᵕᴗᵕ)...   \n",
       "137068    *Muhammad Yasir* hello stalker nice to tweet ...   \n",
       "180575                   • Learn n To Do d'Best...!!!!!!!!   \n",
       "693194                               FB- Xiomara Castañeda   \n",
       "697397           Pin bb : 26ea62f8 . Line : baliratih_bali   \n",
       "1067665                            YOU'LL NEVER WALK ALONE   \n",
       "1347699                                              amp=l   \n",
       "1393938               💰 based on the latest AI innovations   \n",
       "1513853                 My_Facebook http://t.co/tof8V41sTA   \n",
       "1611513                            https://t.co/atJqp3g7I2   \n",
       "1694992               💰 based on the latest AI innovations   \n",
       "1710881               💰 based on the latest AI innovations   \n",
       "\n",
       "               user_location user_description user_created  user_followers  \\\n",
       "64943    2020-11-09 19:44:24                9          141            36.0   \n",
       "137068   2009-08-31 07:40:42            280.0          623           499.0   \n",
       "180575   2010-08-16 10:55:09             52.0          277           127.0   \n",
       "693194   2015-12-21 18:17:12              9.0           81           531.0   \n",
       "697397   2012-06-01 01:08:25              4.0          110            21.0   \n",
       "1067665  2012-08-29 10:32:29             71.0          314          1968.0   \n",
       "1347699  2013-01-02 07:40:53              9.0           33             0.0   \n",
       "1393938  2021-03-31 11:02:58              4.0           26             0.0   \n",
       "1513853  2012-08-24 20:37:55            285.0          933           389.0   \n",
       "1611513  2014-11-16 20:10:32              2.0           32            20.0   \n",
       "1694992  2021-03-31 11:02:58              5.0           26             0.0   \n",
       "1710881  2021-03-31 11:02:58              5.0           26             0.0   \n",
       "\n",
       "        user_friends      user_favourites  \\\n",
       "64943          False  2021-04-07 16:23:03   \n",
       "137068         False  2021-06-23 14:51:12   \n",
       "180575         False  2021-06-22 13:31:16   \n",
       "693194         False  2021-07-26 11:54:15   \n",
       "697397         False  2021-07-26 11:48:46   \n",
       "1067665        False  2021-08-16 16:39:27   \n",
       "1347699        False  2021-10-22 21:33:06   \n",
       "1393938        False  2021-10-21 18:12:08   \n",
       "1513853        False  2021-10-29 08:22:59   \n",
       "1611513        False  2021-11-06 04:05:58   \n",
       "1694992        False  2021-11-12 21:37:16   \n",
       "1710881        False  2021-11-12 13:58:51   \n",
       "\n",
       "                                             user_verified  \\\n",
       "64943    @krakenfx  #ETH #BTC  If you want to become po...   \n",
       "137068   Official ESHOP Airdrop. If You Missed Meme Tok...   \n",
       "180575   @pufferswap Nice project\\n\\n@karnoto_hendrik \\...   \n",
       "693194                           #btc to the moon 🚀🚀 77774   \n",
       "697397                           #btc to the moon 🚀🚀 46059   \n",
       "1067665  @DogCakeFinance @DogCakeFinance Great project\\...   \n",
       "1347699  @bloodgoodBTC5\\n\\n#Bitcoin   \\n\\nShort term tr...   \n",
       "1393938  🤯Mind-blowing 99.7% of all Bitcoin holders are...   \n",
       "1513853  @pythonwealth Good Project 🎉🎉🎉🎉\\n\\n@nurull_pad...   \n",
       "1611513         @iftikharpost the world is flat #bitcoin 💪   \n",
       "1694992  😎Eliminate the FOMO Factor and Automate Your T...   \n",
       "1710881  🔐How to Protect Your Crypto?\\n\\n💡Use a passwor...   \n",
       "\n",
       "                                                      date  \\\n",
       "64943                            ['ETH', 'BTC', 'Bitcoin']   \n",
       "137068   ['cryptocurrency', 'BSC', 'Bitcoin', 'Ethereum...   \n",
       "180575   ['YieldFarming', 'Airdrop', 'Binance', 'Bitcoi...   \n",
       "693194                                             ['btc']   \n",
       "697397                                             ['btc']   \n",
       "1067665  ['YieldFarming', 'Airdrop', 'PancakeSwap', 'Gi...   \n",
       "1347699                                        ['Bitcoin']   \n",
       "1393938  ['cryptotrading', 'crypto', 'tradingbots', 'bi...   \n",
       "1513853  ['PW', 'pythonwealth', 'Presale', 'token', 'ic...   \n",
       "1611513                                        ['bitcoin']   \n",
       "1694992  ['cryptotrading', 'tradingbots', 'altcoins', '...   \n",
       "1710881  ['cryptotrading', 'tradingbots', 'altcoins', '...   \n",
       "\n",
       "                        text hashtags source is_retweet  user_friends_numeric  \n",
       "64943        Twitter Web App    False    NaN        NaN                   NaN  \n",
       "137068   Twitter for Android    False    NaN        NaN                   NaN  \n",
       "180575       Twitter Web App    False    NaN        NaN                   NaN  \n",
       "693194       Twitter Web App    False    NaN        NaN                   NaN  \n",
       "697397       Twitter Web App    False    NaN        NaN                   NaN  \n",
       "1067665  Twitter for Android    False    NaN        NaN                   NaN  \n",
       "1347699   Twitter for iPhone    False    NaN        NaN                   NaN  \n",
       "1393938   Twitter for iPhone    False    NaN        NaN                   NaN  \n",
       "1513853      Twitter Web App    False    NaN        NaN                   NaN  \n",
       "1611513   Twitter for iPhone    False    NaN        NaN                   NaN  \n",
       "1694992   Twitter for iPhone    False    NaN        NaN                   NaN  \n",
       "1710881   Twitter for iPhone    False    NaN        NaN                   NaN  "
      ]
     },
     "execution_count": 323,
     "metadata": {},
     "output_type": "execute_result"
    }
   ],
   "source": [
    "df['user_friends_numeric'] = pd.to_numeric(df['user_friends'], errors='coerce')\n",
    "df.loc[df['user_friends_numeric'].isna(), :]"
   ]
  },
  {
   "cell_type": "code",
   "execution_count": 324,
   "metadata": {},
   "outputs": [
    {
     "data": {
      "text/plain": [
       "False    1751617\n",
       "True          12\n",
       "Name: user_friends_numeric, dtype: int64"
      ]
     },
     "execution_count": 324,
     "metadata": {},
     "output_type": "execute_result"
    }
   ],
   "source": [
    "df['user_friends_numeric'].isna().value_counts()"
   ]
  },
  {
   "cell_type": "markdown",
   "metadata": {},
   "source": [
    "Eliminate invalid data from dataframe with column 'user_friends_numeric'"
   ]
  },
  {
   "cell_type": "code",
   "execution_count": 325,
   "metadata": {},
   "outputs": [
    {
     "data": {
      "text/plain": [
       "False    1751617\n",
       "Name: user_friends_numeric, dtype: int64"
      ]
     },
     "execution_count": 325,
     "metadata": {},
     "output_type": "execute_result"
    }
   ],
   "source": [
    "df = df.dropna(subset=['user_friends_numeric'])\n",
    "df['user_friends_numeric'].isna().value_counts()"
   ]
  },
  {
   "cell_type": "code",
   "execution_count": 326,
   "metadata": {},
   "outputs": [],
   "source": [
    "df['user_friends'] = df['user_friends'].astype('float64')"
   ]
  },
  {
   "cell_type": "code",
   "execution_count": 327,
   "metadata": {},
   "outputs": [
    {
     "name": "stderr",
     "output_type": "stream",
     "text": [
      "<ipython-input-327-444d2a7b2af6>:1: FutureWarning: In a future version of pandas all arguments of DataFrame.drop except for the argument 'labels' will be keyword-only\n",
      "  df = df.drop('user_friends_numeric', 1)\n"
     ]
    },
    {
     "data": {
      "text/html": [
       "<div>\n",
       "<style scoped>\n",
       "    .dataframe tbody tr th:only-of-type {\n",
       "        vertical-align: middle;\n",
       "    }\n",
       "\n",
       "    .dataframe tbody tr th {\n",
       "        vertical-align: top;\n",
       "    }\n",
       "\n",
       "    .dataframe thead th {\n",
       "        text-align: right;\n",
       "    }\n",
       "</style>\n",
       "<table border=\"1\" class=\"dataframe\">\n",
       "  <thead>\n",
       "    <tr style=\"text-align: right;\">\n",
       "      <th></th>\n",
       "      <th>user_name</th>\n",
       "      <th>user_location</th>\n",
       "      <th>user_description</th>\n",
       "      <th>user_created</th>\n",
       "      <th>user_followers</th>\n",
       "      <th>user_friends</th>\n",
       "      <th>user_favourites</th>\n",
       "      <th>user_verified</th>\n",
       "      <th>date</th>\n",
       "      <th>text</th>\n",
       "      <th>hashtags</th>\n",
       "      <th>source</th>\n",
       "      <th>is_retweet</th>\n",
       "    </tr>\n",
       "  </thead>\n",
       "  <tbody>\n",
       "    <tr>\n",
       "      <th>0</th>\n",
       "      <td>DeSota Wilson</td>\n",
       "      <td>Atlanta, GA</td>\n",
       "      <td>Biz Consultant, real estate, fintech, startups...</td>\n",
       "      <td>2009-04-26 20:05:09</td>\n",
       "      <td>8534.0</td>\n",
       "      <td>7605.0</td>\n",
       "      <td>4838</td>\n",
       "      <td>False</td>\n",
       "      <td>2021-02-10 23:59:04</td>\n",
       "      <td>Blue Ridge Bank shares halted by NYSE after #b...</td>\n",
       "      <td>['bitcoin']</td>\n",
       "      <td>Twitter Web App</td>\n",
       "      <td>False</td>\n",
       "    </tr>\n",
       "    <tr>\n",
       "      <th>1</th>\n",
       "      <td>CryptoND</td>\n",
       "      <td>NaN</td>\n",
       "      <td>😎 BITCOINLIVE is a Dutch platform aimed at inf...</td>\n",
       "      <td>2019-10-17 20:12:10</td>\n",
       "      <td>6769.0</td>\n",
       "      <td>1532.0</td>\n",
       "      <td>25483</td>\n",
       "      <td>False</td>\n",
       "      <td>2021-02-10 23:58:48</td>\n",
       "      <td>😎 Today, that's this #Thursday, we will do a \"...</td>\n",
       "      <td>['Thursday', 'Btc', 'wallet', 'security']</td>\n",
       "      <td>Twitter for Android</td>\n",
       "      <td>False</td>\n",
       "    </tr>\n",
       "    <tr>\n",
       "      <th>2</th>\n",
       "      <td>Tdlmatias</td>\n",
       "      <td>London, England</td>\n",
       "      <td>IM Academy : The best #forex, #SelfEducation, ...</td>\n",
       "      <td>2014-11-10 10:50:37</td>\n",
       "      <td>128.0</td>\n",
       "      <td>332.0</td>\n",
       "      <td>924</td>\n",
       "      <td>False</td>\n",
       "      <td>2021-02-10 23:54:48</td>\n",
       "      <td>Guys evening, I have read this article about B...</td>\n",
       "      <td>NaN</td>\n",
       "      <td>Twitter Web App</td>\n",
       "      <td>False</td>\n",
       "    </tr>\n",
       "    <tr>\n",
       "      <th>3</th>\n",
       "      <td>Crypto is the future</td>\n",
       "      <td>NaN</td>\n",
       "      <td>I will post a lot of buying signals for BTC tr...</td>\n",
       "      <td>2019-09-28 16:48:12</td>\n",
       "      <td>625.0</td>\n",
       "      <td>129.0</td>\n",
       "      <td>14</td>\n",
       "      <td>False</td>\n",
       "      <td>2021-02-10 23:54:33</td>\n",
       "      <td>$BTC A big chance in a billion! Price: \\487264...</td>\n",
       "      <td>['Bitcoin', 'FX', 'BTC', 'crypto']</td>\n",
       "      <td>dlvr.it</td>\n",
       "      <td>False</td>\n",
       "    </tr>\n",
       "    <tr>\n",
       "      <th>4</th>\n",
       "      <td>Alex Kirchmaier 🇦🇹🇸🇪 #FactsSuperspreader</td>\n",
       "      <td>Europa</td>\n",
       "      <td>Co-founder @RENJERJerky | Forbes 30Under30 | I...</td>\n",
       "      <td>2016-02-03 13:15:55</td>\n",
       "      <td>1249.0</td>\n",
       "      <td>1472.0</td>\n",
       "      <td>10482</td>\n",
       "      <td>False</td>\n",
       "      <td>2021-02-10 23:54:06</td>\n",
       "      <td>This network is secured by 9 508 nodes as of t...</td>\n",
       "      <td>['BTC']</td>\n",
       "      <td>Twitter Web App</td>\n",
       "      <td>False</td>\n",
       "    </tr>\n",
       "  </tbody>\n",
       "</table>\n",
       "</div>"
      ],
      "text/plain": [
       "                                  user_name    user_location  \\\n",
       "0                             DeSota Wilson      Atlanta, GA   \n",
       "1                                  CryptoND              NaN   \n",
       "2                                 Tdlmatias  London, England   \n",
       "3                      Crypto is the future              NaN   \n",
       "4  Alex Kirchmaier 🇦🇹🇸🇪 #FactsSuperspreader           Europa   \n",
       "\n",
       "                                    user_description         user_created  \\\n",
       "0  Biz Consultant, real estate, fintech, startups...  2009-04-26 20:05:09   \n",
       "1  😎 BITCOINLIVE is a Dutch platform aimed at inf...  2019-10-17 20:12:10   \n",
       "2  IM Academy : The best #forex, #SelfEducation, ...  2014-11-10 10:50:37   \n",
       "3  I will post a lot of buying signals for BTC tr...  2019-09-28 16:48:12   \n",
       "4  Co-founder @RENJERJerky | Forbes 30Under30 | I...  2016-02-03 13:15:55   \n",
       "\n",
       "   user_followers  user_friends user_favourites user_verified  \\\n",
       "0          8534.0        7605.0            4838         False   \n",
       "1          6769.0        1532.0           25483         False   \n",
       "2           128.0         332.0             924         False   \n",
       "3           625.0         129.0              14         False   \n",
       "4          1249.0        1472.0           10482         False   \n",
       "\n",
       "                  date                                               text  \\\n",
       "0  2021-02-10 23:59:04  Blue Ridge Bank shares halted by NYSE after #b...   \n",
       "1  2021-02-10 23:58:48  😎 Today, that's this #Thursday, we will do a \"...   \n",
       "2  2021-02-10 23:54:48  Guys evening, I have read this article about B...   \n",
       "3  2021-02-10 23:54:33  $BTC A big chance in a billion! Price: \\487264...   \n",
       "4  2021-02-10 23:54:06  This network is secured by 9 508 nodes as of t...   \n",
       "\n",
       "                                    hashtags               source is_retweet  \n",
       "0                                ['bitcoin']      Twitter Web App      False  \n",
       "1  ['Thursday', 'Btc', 'wallet', 'security']  Twitter for Android      False  \n",
       "2                                        NaN      Twitter Web App      False  \n",
       "3         ['Bitcoin', 'FX', 'BTC', 'crypto']              dlvr.it      False  \n",
       "4                                    ['BTC']      Twitter Web App      False  "
      ]
     },
     "execution_count": 327,
     "metadata": {},
     "output_type": "execute_result"
    }
   ],
   "source": [
    "df = df.drop('user_friends_numeric', 1)\n",
    "df.head()"
   ]
  },
  {
   "cell_type": "code",
   "execution_count": 328,
   "metadata": {},
   "outputs": [
    {
     "data": {
      "text/plain": [
       "user_name            object\n",
       "user_location        object\n",
       "user_description     object\n",
       "user_created         object\n",
       "user_followers      float64\n",
       "user_friends        float64\n",
       "user_favourites      object\n",
       "user_verified        object\n",
       "date                 object\n",
       "text                 object\n",
       "hashtags             object\n",
       "source               object\n",
       "is_retweet           object\n",
       "dtype: object"
      ]
     },
     "execution_count": 328,
     "metadata": {},
     "output_type": "execute_result"
    }
   ],
   "source": [
    "df.dtypes"
   ]
  },
  {
   "cell_type": "code",
   "execution_count": 329,
   "metadata": {},
   "outputs": [
    {
     "data": {
      "text/plain": [
       "user_name            object\n",
       "user_location        object\n",
       "user_description     object\n",
       "user_created         object\n",
       "user_followers      float64\n",
       "user_friends        float64\n",
       "user_favourites     float64\n",
       "user_verified        object\n",
       "date                 object\n",
       "text                 object\n",
       "hashtags             object\n",
       "source               object\n",
       "is_retweet           object\n",
       "dtype: object"
      ]
     },
     "execution_count": 329,
     "metadata": {},
     "output_type": "execute_result"
    }
   ],
   "source": [
    "df['user_favourites'] = df['user_favourites'].astype('float64')\n",
    "df.dtypes"
   ]
  },
  {
   "cell_type": "code",
   "execution_count": 331,
   "metadata": {},
   "outputs": [
    {
     "data": {
      "text/plain": [
       "user_name            object\n",
       "user_location        object\n",
       "user_description     object\n",
       "user_created         object\n",
       "user_followers      float64\n",
       "user_friends        float64\n",
       "user_favourites     float64\n",
       "user_verified          bool\n",
       "date                 object\n",
       "text                 object\n",
       "hashtags             object\n",
       "source               object\n",
       "is_retweet             bool\n",
       "dtype: object"
      ]
     },
     "execution_count": 331,
     "metadata": {},
     "output_type": "execute_result"
    }
   ],
   "source": [
    "df['user_verified'] = df['user_verified'].astype('bool')\n",
    "df['is_retweet'] = df['is_retweet'].astype('bool')\n",
    "df.dtypes"
   ]
  },
  {
   "cell_type": "code",
   "execution_count": 332,
   "metadata": {},
   "outputs": [
    {
     "data": {
      "text/html": [
       "<div>\n",
       "<style scoped>\n",
       "    .dataframe tbody tr th:only-of-type {\n",
       "        vertical-align: middle;\n",
       "    }\n",
       "\n",
       "    .dataframe tbody tr th {\n",
       "        vertical-align: top;\n",
       "    }\n",
       "\n",
       "    .dataframe thead th {\n",
       "        text-align: right;\n",
       "    }\n",
       "</style>\n",
       "<table border=\"1\" class=\"dataframe\">\n",
       "  <thead>\n",
       "    <tr style=\"text-align: right;\">\n",
       "      <th></th>\n",
       "      <th>user_name</th>\n",
       "      <th>user_location</th>\n",
       "      <th>user_description</th>\n",
       "      <th>user_created</th>\n",
       "      <th>user_followers</th>\n",
       "      <th>user_friends</th>\n",
       "      <th>user_favourites</th>\n",
       "      <th>user_verified</th>\n",
       "      <th>date</th>\n",
       "      <th>text</th>\n",
       "      <th>hashtags</th>\n",
       "      <th>source</th>\n",
       "      <th>is_retweet</th>\n",
       "    </tr>\n",
       "  </thead>\n",
       "  <tbody>\n",
       "    <tr>\n",
       "      <th>0</th>\n",
       "      <td>DeSota Wilson</td>\n",
       "      <td>Atlanta, GA</td>\n",
       "      <td>Biz Consultant, real estate, fintech, startups...</td>\n",
       "      <td>2009-04-26 20:05:09</td>\n",
       "      <td>8534.0</td>\n",
       "      <td>7605.0</td>\n",
       "      <td>4838.0</td>\n",
       "      <td>True</td>\n",
       "      <td>2021-02-10 23:59:04</td>\n",
       "      <td>Blue Ridge Bank shares halted by NYSE after #b...</td>\n",
       "      <td>['bitcoin']</td>\n",
       "      <td>Twitter Web App</td>\n",
       "      <td>False</td>\n",
       "    </tr>\n",
       "    <tr>\n",
       "      <th>1</th>\n",
       "      <td>CryptoND</td>\n",
       "      <td>NaN</td>\n",
       "      <td>😎 BITCOINLIVE is a Dutch platform aimed at inf...</td>\n",
       "      <td>2019-10-17 20:12:10</td>\n",
       "      <td>6769.0</td>\n",
       "      <td>1532.0</td>\n",
       "      <td>25483.0</td>\n",
       "      <td>True</td>\n",
       "      <td>2021-02-10 23:58:48</td>\n",
       "      <td>😎 Today, that's this #Thursday, we will do a \"...</td>\n",
       "      <td>['Thursday', 'Btc', 'wallet', 'security']</td>\n",
       "      <td>Twitter for Android</td>\n",
       "      <td>False</td>\n",
       "    </tr>\n",
       "    <tr>\n",
       "      <th>2</th>\n",
       "      <td>Tdlmatias</td>\n",
       "      <td>London, England</td>\n",
       "      <td>IM Academy : The best #forex, #SelfEducation, ...</td>\n",
       "      <td>2014-11-10 10:50:37</td>\n",
       "      <td>128.0</td>\n",
       "      <td>332.0</td>\n",
       "      <td>924.0</td>\n",
       "      <td>True</td>\n",
       "      <td>2021-02-10 23:54:48</td>\n",
       "      <td>Guys evening, I have read this article about B...</td>\n",
       "      <td>NaN</td>\n",
       "      <td>Twitter Web App</td>\n",
       "      <td>False</td>\n",
       "    </tr>\n",
       "    <tr>\n",
       "      <th>3</th>\n",
       "      <td>Crypto is the future</td>\n",
       "      <td>NaN</td>\n",
       "      <td>I will post a lot of buying signals for BTC tr...</td>\n",
       "      <td>2019-09-28 16:48:12</td>\n",
       "      <td>625.0</td>\n",
       "      <td>129.0</td>\n",
       "      <td>14.0</td>\n",
       "      <td>True</td>\n",
       "      <td>2021-02-10 23:54:33</td>\n",
       "      <td>$BTC A big chance in a billion! Price: \\487264...</td>\n",
       "      <td>['Bitcoin', 'FX', 'BTC', 'crypto']</td>\n",
       "      <td>dlvr.it</td>\n",
       "      <td>False</td>\n",
       "    </tr>\n",
       "    <tr>\n",
       "      <th>4</th>\n",
       "      <td>Alex Kirchmaier 🇦🇹🇸🇪 #FactsSuperspreader</td>\n",
       "      <td>Europa</td>\n",
       "      <td>Co-founder @RENJERJerky | Forbes 30Under30 | I...</td>\n",
       "      <td>2016-02-03 13:15:55</td>\n",
       "      <td>1249.0</td>\n",
       "      <td>1472.0</td>\n",
       "      <td>10482.0</td>\n",
       "      <td>True</td>\n",
       "      <td>2021-02-10 23:54:06</td>\n",
       "      <td>This network is secured by 9 508 nodes as of t...</td>\n",
       "      <td>['BTC']</td>\n",
       "      <td>Twitter Web App</td>\n",
       "      <td>False</td>\n",
       "    </tr>\n",
       "  </tbody>\n",
       "</table>\n",
       "</div>"
      ],
      "text/plain": [
       "                                  user_name    user_location  \\\n",
       "0                             DeSota Wilson      Atlanta, GA   \n",
       "1                                  CryptoND              NaN   \n",
       "2                                 Tdlmatias  London, England   \n",
       "3                      Crypto is the future              NaN   \n",
       "4  Alex Kirchmaier 🇦🇹🇸🇪 #FactsSuperspreader           Europa   \n",
       "\n",
       "                                    user_description         user_created  \\\n",
       "0  Biz Consultant, real estate, fintech, startups...  2009-04-26 20:05:09   \n",
       "1  😎 BITCOINLIVE is a Dutch platform aimed at inf...  2019-10-17 20:12:10   \n",
       "2  IM Academy : The best #forex, #SelfEducation, ...  2014-11-10 10:50:37   \n",
       "3  I will post a lot of buying signals for BTC tr...  2019-09-28 16:48:12   \n",
       "4  Co-founder @RENJERJerky | Forbes 30Under30 | I...  2016-02-03 13:15:55   \n",
       "\n",
       "   user_followers  user_friends  user_favourites  user_verified  \\\n",
       "0          8534.0        7605.0           4838.0           True   \n",
       "1          6769.0        1532.0          25483.0           True   \n",
       "2           128.0         332.0            924.0           True   \n",
       "3           625.0         129.0             14.0           True   \n",
       "4          1249.0        1472.0          10482.0           True   \n",
       "\n",
       "                 date                                               text  \\\n",
       "0 2021-02-10 23:59:04  Blue Ridge Bank shares halted by NYSE after #b...   \n",
       "1 2021-02-10 23:58:48  😎 Today, that's this #Thursday, we will do a \"...   \n",
       "2 2021-02-10 23:54:48  Guys evening, I have read this article about B...   \n",
       "3 2021-02-10 23:54:33  $BTC A big chance in a billion! Price: \\487264...   \n",
       "4 2021-02-10 23:54:06  This network is secured by 9 508 nodes as of t...   \n",
       "\n",
       "                                    hashtags               source  is_retweet  \n",
       "0                                ['bitcoin']      Twitter Web App       False  \n",
       "1  ['Thursday', 'Btc', 'wallet', 'security']  Twitter for Android       False  \n",
       "2                                        NaN      Twitter Web App       False  \n",
       "3         ['Bitcoin', 'FX', 'BTC', 'crypto']              dlvr.it       False  \n",
       "4                                    ['BTC']      Twitter Web App       False  "
      ]
     },
     "execution_count": 332,
     "metadata": {},
     "output_type": "execute_result"
    }
   ],
   "source": [
    "df['date'] = pd.to_datetime(df.date)\n",
    "df.head()"
   ]
  },
  {
   "cell_type": "code",
   "execution_count": 334,
   "metadata": {},
   "outputs": [
    {
     "data": {
      "text/plain": [
       "user_name                   object\n",
       "user_location               object\n",
       "user_description            object\n",
       "user_created                object\n",
       "user_followers             float64\n",
       "user_friends               float64\n",
       "user_favourites            float64\n",
       "user_verified                 bool\n",
       "date                datetime64[ns]\n",
       "text                        object\n",
       "hashtags                    object\n",
       "source                      object\n",
       "is_retweet                    bool\n",
       "dtype: object"
      ]
     },
     "execution_count": 334,
     "metadata": {},
     "output_type": "execute_result"
    }
   ],
   "source": [
    "df.dtypes"
   ]
  },
  {
   "cell_type": "code",
   "execution_count": 335,
   "metadata": {},
   "outputs": [
    {
     "data": {
      "text/html": [
       "<div>\n",
       "<style scoped>\n",
       "    .dataframe tbody tr th:only-of-type {\n",
       "        vertical-align: middle;\n",
       "    }\n",
       "\n",
       "    .dataframe tbody tr th {\n",
       "        vertical-align: top;\n",
       "    }\n",
       "\n",
       "    .dataframe thead th {\n",
       "        text-align: right;\n",
       "    }\n",
       "</style>\n",
       "<table border=\"1\" class=\"dataframe\">\n",
       "  <thead>\n",
       "    <tr style=\"text-align: right;\">\n",
       "      <th></th>\n",
       "      <th>user_name</th>\n",
       "      <th>user_location</th>\n",
       "      <th>user_description</th>\n",
       "      <th>user_created</th>\n",
       "      <th>user_followers</th>\n",
       "      <th>user_friends</th>\n",
       "      <th>user_favourites</th>\n",
       "      <th>user_verified</th>\n",
       "      <th>date</th>\n",
       "      <th>text</th>\n",
       "      <th>hashtags</th>\n",
       "      <th>source</th>\n",
       "      <th>is_retweet</th>\n",
       "      <th>Timestamp</th>\n",
       "    </tr>\n",
       "  </thead>\n",
       "  <tbody>\n",
       "    <tr>\n",
       "      <th>0</th>\n",
       "      <td>DeSota Wilson</td>\n",
       "      <td>Atlanta, GA</td>\n",
       "      <td>Biz Consultant, real estate, fintech, startups...</td>\n",
       "      <td>2009-04-26 20:05:09</td>\n",
       "      <td>8534.0</td>\n",
       "      <td>7605.0</td>\n",
       "      <td>4838.0</td>\n",
       "      <td>True</td>\n",
       "      <td>2021-02-10 23:59:04</td>\n",
       "      <td>Blue Ridge Bank shares halted by NYSE after #b...</td>\n",
       "      <td>['bitcoin']</td>\n",
       "      <td>Twitter Web App</td>\n",
       "      <td>False</td>\n",
       "      <td>1613001544</td>\n",
       "    </tr>\n",
       "    <tr>\n",
       "      <th>1</th>\n",
       "      <td>CryptoND</td>\n",
       "      <td>NaN</td>\n",
       "      <td>😎 BITCOINLIVE is a Dutch platform aimed at inf...</td>\n",
       "      <td>2019-10-17 20:12:10</td>\n",
       "      <td>6769.0</td>\n",
       "      <td>1532.0</td>\n",
       "      <td>25483.0</td>\n",
       "      <td>True</td>\n",
       "      <td>2021-02-10 23:58:48</td>\n",
       "      <td>😎 Today, that's this #Thursday, we will do a \"...</td>\n",
       "      <td>['Thursday', 'Btc', 'wallet', 'security']</td>\n",
       "      <td>Twitter for Android</td>\n",
       "      <td>False</td>\n",
       "      <td>1613001528</td>\n",
       "    </tr>\n",
       "    <tr>\n",
       "      <th>2</th>\n",
       "      <td>Tdlmatias</td>\n",
       "      <td>London, England</td>\n",
       "      <td>IM Academy : The best #forex, #SelfEducation, ...</td>\n",
       "      <td>2014-11-10 10:50:37</td>\n",
       "      <td>128.0</td>\n",
       "      <td>332.0</td>\n",
       "      <td>924.0</td>\n",
       "      <td>True</td>\n",
       "      <td>2021-02-10 23:54:48</td>\n",
       "      <td>Guys evening, I have read this article about B...</td>\n",
       "      <td>NaN</td>\n",
       "      <td>Twitter Web App</td>\n",
       "      <td>False</td>\n",
       "      <td>1613001288</td>\n",
       "    </tr>\n",
       "    <tr>\n",
       "      <th>3</th>\n",
       "      <td>Crypto is the future</td>\n",
       "      <td>NaN</td>\n",
       "      <td>I will post a lot of buying signals for BTC tr...</td>\n",
       "      <td>2019-09-28 16:48:12</td>\n",
       "      <td>625.0</td>\n",
       "      <td>129.0</td>\n",
       "      <td>14.0</td>\n",
       "      <td>True</td>\n",
       "      <td>2021-02-10 23:54:33</td>\n",
       "      <td>$BTC A big chance in a billion! Price: \\487264...</td>\n",
       "      <td>['Bitcoin', 'FX', 'BTC', 'crypto']</td>\n",
       "      <td>dlvr.it</td>\n",
       "      <td>False</td>\n",
       "      <td>1613001273</td>\n",
       "    </tr>\n",
       "    <tr>\n",
       "      <th>4</th>\n",
       "      <td>Alex Kirchmaier 🇦🇹🇸🇪 #FactsSuperspreader</td>\n",
       "      <td>Europa</td>\n",
       "      <td>Co-founder @RENJERJerky | Forbes 30Under30 | I...</td>\n",
       "      <td>2016-02-03 13:15:55</td>\n",
       "      <td>1249.0</td>\n",
       "      <td>1472.0</td>\n",
       "      <td>10482.0</td>\n",
       "      <td>True</td>\n",
       "      <td>2021-02-10 23:54:06</td>\n",
       "      <td>This network is secured by 9 508 nodes as of t...</td>\n",
       "      <td>['BTC']</td>\n",
       "      <td>Twitter Web App</td>\n",
       "      <td>False</td>\n",
       "      <td>1613001246</td>\n",
       "    </tr>\n",
       "  </tbody>\n",
       "</table>\n",
       "</div>"
      ],
      "text/plain": [
       "                                  user_name    user_location  \\\n",
       "0                             DeSota Wilson      Atlanta, GA   \n",
       "1                                  CryptoND              NaN   \n",
       "2                                 Tdlmatias  London, England   \n",
       "3                      Crypto is the future              NaN   \n",
       "4  Alex Kirchmaier 🇦🇹🇸🇪 #FactsSuperspreader           Europa   \n",
       "\n",
       "                                    user_description         user_created  \\\n",
       "0  Biz Consultant, real estate, fintech, startups...  2009-04-26 20:05:09   \n",
       "1  😎 BITCOINLIVE is a Dutch platform aimed at inf...  2019-10-17 20:12:10   \n",
       "2  IM Academy : The best #forex, #SelfEducation, ...  2014-11-10 10:50:37   \n",
       "3  I will post a lot of buying signals for BTC tr...  2019-09-28 16:48:12   \n",
       "4  Co-founder @RENJERJerky | Forbes 30Under30 | I...  2016-02-03 13:15:55   \n",
       "\n",
       "   user_followers  user_friends  user_favourites  user_verified  \\\n",
       "0          8534.0        7605.0           4838.0           True   \n",
       "1          6769.0        1532.0          25483.0           True   \n",
       "2           128.0         332.0            924.0           True   \n",
       "3           625.0         129.0             14.0           True   \n",
       "4          1249.0        1472.0          10482.0           True   \n",
       "\n",
       "                 date                                               text  \\\n",
       "0 2021-02-10 23:59:04  Blue Ridge Bank shares halted by NYSE after #b...   \n",
       "1 2021-02-10 23:58:48  😎 Today, that's this #Thursday, we will do a \"...   \n",
       "2 2021-02-10 23:54:48  Guys evening, I have read this article about B...   \n",
       "3 2021-02-10 23:54:33  $BTC A big chance in a billion! Price: \\487264...   \n",
       "4 2021-02-10 23:54:06  This network is secured by 9 508 nodes as of t...   \n",
       "\n",
       "                                    hashtags               source  is_retweet  \\\n",
       "0                                ['bitcoin']      Twitter Web App       False   \n",
       "1  ['Thursday', 'Btc', 'wallet', 'security']  Twitter for Android       False   \n",
       "2                                        NaN      Twitter Web App       False   \n",
       "3         ['Bitcoin', 'FX', 'BTC', 'crypto']              dlvr.it       False   \n",
       "4                                    ['BTC']      Twitter Web App       False   \n",
       "\n",
       "    Timestamp  \n",
       "0  1613001544  \n",
       "1  1613001528  \n",
       "2  1613001288  \n",
       "3  1613001273  \n",
       "4  1613001246  "
      ]
     },
     "execution_count": 335,
     "metadata": {},
     "output_type": "execute_result"
    }
   ],
   "source": [
    "df['Timestamp'] = df['date'].values.astype(np.int64)\n",
    "df['Timestamp'] = df['Timestamp']/1000000000\n",
    "df['Timestamp'] = df['Timestamp'].astype(np.int64)\n",
    "df.head()"
   ]
  },
  {
   "cell_type": "code",
   "execution_count": 336,
   "metadata": {},
   "outputs": [
    {
     "data": {
      "text/plain": [
       "user_name                   object\n",
       "user_location               object\n",
       "user_description            object\n",
       "user_created                object\n",
       "user_followers             float64\n",
       "user_friends               float64\n",
       "user_favourites            float64\n",
       "user_verified                 bool\n",
       "date                datetime64[ns]\n",
       "text                        object\n",
       "hashtags                    object\n",
       "source                      object\n",
       "is_retweet                    bool\n",
       "Timestamp                    int64\n",
       "dtype: object"
      ]
     },
     "execution_count": 336,
     "metadata": {},
     "output_type": "execute_result"
    }
   ],
   "source": [
    "df.dtypes"
   ]
  },
  {
   "cell_type": "code",
   "execution_count": 411,
   "metadata": {},
   "outputs": [
    {
     "data": {
      "text/html": [
       "<div>\n",
       "<style scoped>\n",
       "    .dataframe tbody tr th:only-of-type {\n",
       "        vertical-align: middle;\n",
       "    }\n",
       "\n",
       "    .dataframe tbody tr th {\n",
       "        vertical-align: top;\n",
       "    }\n",
       "\n",
       "    .dataframe thead th {\n",
       "        text-align: right;\n",
       "    }\n",
       "</style>\n",
       "<table border=\"1\" class=\"dataframe\">\n",
       "  <thead>\n",
       "    <tr style=\"text-align: right;\">\n",
       "      <th></th>\n",
       "      <th>user_name</th>\n",
       "      <th>user_location</th>\n",
       "      <th>user_description</th>\n",
       "      <th>user_created</th>\n",
       "      <th>user_followers</th>\n",
       "      <th>user_friends</th>\n",
       "      <th>user_favourites</th>\n",
       "      <th>user_verified</th>\n",
       "      <th>date</th>\n",
       "      <th>text</th>\n",
       "      <th>hashtags</th>\n",
       "      <th>source</th>\n",
       "      <th>is_retweet</th>\n",
       "      <th>Timestamp</th>\n",
       "      <th>day</th>\n",
       "      <th>tweets</th>\n",
       "    </tr>\n",
       "  </thead>\n",
       "  <tbody>\n",
       "    <tr>\n",
       "      <th>0</th>\n",
       "      <td>DeSota Wilson</td>\n",
       "      <td>Atlanta, GA</td>\n",
       "      <td>Biz Consultant, real estate, fintech, startups...</td>\n",
       "      <td>2009-04-26 20:05:09</td>\n",
       "      <td>8534.0</td>\n",
       "      <td>7605.0</td>\n",
       "      <td>4838.0</td>\n",
       "      <td>True</td>\n",
       "      <td>2021-02-10 23:59:04</td>\n",
       "      <td>Blue Ridge Bank shares halted by NYSE after #b...</td>\n",
       "      <td>['bitcoin']</td>\n",
       "      <td>Twitter Web App</td>\n",
       "      <td>False</td>\n",
       "      <td>1613001544</td>\n",
       "      <td>2021-02-10</td>\n",
       "      <td>3526</td>\n",
       "    </tr>\n",
       "    <tr>\n",
       "      <th>1</th>\n",
       "      <td>CryptoND</td>\n",
       "      <td>NaN</td>\n",
       "      <td>😎 BITCOINLIVE is a Dutch platform aimed at inf...</td>\n",
       "      <td>2019-10-17 20:12:10</td>\n",
       "      <td>6769.0</td>\n",
       "      <td>1532.0</td>\n",
       "      <td>25483.0</td>\n",
       "      <td>True</td>\n",
       "      <td>2021-02-10 23:58:48</td>\n",
       "      <td>😎 Today, that's this #Thursday, we will do a \"...</td>\n",
       "      <td>['Thursday', 'Btc', 'wallet', 'security']</td>\n",
       "      <td>Twitter for Android</td>\n",
       "      <td>False</td>\n",
       "      <td>1613001528</td>\n",
       "      <td>2021-02-10</td>\n",
       "      <td>3526</td>\n",
       "    </tr>\n",
       "    <tr>\n",
       "      <th>2</th>\n",
       "      <td>Tdlmatias</td>\n",
       "      <td>London, England</td>\n",
       "      <td>IM Academy : The best #forex, #SelfEducation, ...</td>\n",
       "      <td>2014-11-10 10:50:37</td>\n",
       "      <td>128.0</td>\n",
       "      <td>332.0</td>\n",
       "      <td>924.0</td>\n",
       "      <td>True</td>\n",
       "      <td>2021-02-10 23:54:48</td>\n",
       "      <td>Guys evening, I have read this article about B...</td>\n",
       "      <td>NaN</td>\n",
       "      <td>Twitter Web App</td>\n",
       "      <td>False</td>\n",
       "      <td>1613001288</td>\n",
       "      <td>2021-02-10</td>\n",
       "      <td>3526</td>\n",
       "    </tr>\n",
       "    <tr>\n",
       "      <th>3</th>\n",
       "      <td>Crypto is the future</td>\n",
       "      <td>NaN</td>\n",
       "      <td>I will post a lot of buying signals for BTC tr...</td>\n",
       "      <td>2019-09-28 16:48:12</td>\n",
       "      <td>625.0</td>\n",
       "      <td>129.0</td>\n",
       "      <td>14.0</td>\n",
       "      <td>True</td>\n",
       "      <td>2021-02-10 23:54:33</td>\n",
       "      <td>$BTC A big chance in a billion! Price: \\487264...</td>\n",
       "      <td>['Bitcoin', 'FX', 'BTC', 'crypto']</td>\n",
       "      <td>dlvr.it</td>\n",
       "      <td>False</td>\n",
       "      <td>1613001273</td>\n",
       "      <td>2021-02-10</td>\n",
       "      <td>3526</td>\n",
       "    </tr>\n",
       "    <tr>\n",
       "      <th>4</th>\n",
       "      <td>Alex Kirchmaier 🇦🇹🇸🇪 #FactsSuperspreader</td>\n",
       "      <td>Europa</td>\n",
       "      <td>Co-founder @RENJERJerky | Forbes 30Under30 | I...</td>\n",
       "      <td>2016-02-03 13:15:55</td>\n",
       "      <td>1249.0</td>\n",
       "      <td>1472.0</td>\n",
       "      <td>10482.0</td>\n",
       "      <td>True</td>\n",
       "      <td>2021-02-10 23:54:06</td>\n",
       "      <td>This network is secured by 9 508 nodes as of t...</td>\n",
       "      <td>['BTC']</td>\n",
       "      <td>Twitter Web App</td>\n",
       "      <td>False</td>\n",
       "      <td>1613001246</td>\n",
       "      <td>2021-02-10</td>\n",
       "      <td>3526</td>\n",
       "    </tr>\n",
       "  </tbody>\n",
       "</table>\n",
       "</div>"
      ],
      "text/plain": [
       "                                  user_name    user_location  \\\n",
       "0                             DeSota Wilson      Atlanta, GA   \n",
       "1                                  CryptoND              NaN   \n",
       "2                                 Tdlmatias  London, England   \n",
       "3                      Crypto is the future              NaN   \n",
       "4  Alex Kirchmaier 🇦🇹🇸🇪 #FactsSuperspreader           Europa   \n",
       "\n",
       "                                    user_description         user_created  \\\n",
       "0  Biz Consultant, real estate, fintech, startups...  2009-04-26 20:05:09   \n",
       "1  😎 BITCOINLIVE is a Dutch platform aimed at inf...  2019-10-17 20:12:10   \n",
       "2  IM Academy : The best #forex, #SelfEducation, ...  2014-11-10 10:50:37   \n",
       "3  I will post a lot of buying signals for BTC tr...  2019-09-28 16:48:12   \n",
       "4  Co-founder @RENJERJerky | Forbes 30Under30 | I...  2016-02-03 13:15:55   \n",
       "\n",
       "   user_followers  user_friends  user_favourites  user_verified  \\\n",
       "0          8534.0        7605.0           4838.0           True   \n",
       "1          6769.0        1532.0          25483.0           True   \n",
       "2           128.0         332.0            924.0           True   \n",
       "3           625.0         129.0             14.0           True   \n",
       "4          1249.0        1472.0          10482.0           True   \n",
       "\n",
       "                 date                                               text  \\\n",
       "0 2021-02-10 23:59:04  Blue Ridge Bank shares halted by NYSE after #b...   \n",
       "1 2021-02-10 23:58:48  😎 Today, that's this #Thursday, we will do a \"...   \n",
       "2 2021-02-10 23:54:48  Guys evening, I have read this article about B...   \n",
       "3 2021-02-10 23:54:33  $BTC A big chance in a billion! Price: \\487264...   \n",
       "4 2021-02-10 23:54:06  This network is secured by 9 508 nodes as of t...   \n",
       "\n",
       "                                    hashtags               source  is_retweet  \\\n",
       "0                                ['bitcoin']      Twitter Web App       False   \n",
       "1  ['Thursday', 'Btc', 'wallet', 'security']  Twitter for Android       False   \n",
       "2                                        NaN      Twitter Web App       False   \n",
       "3         ['Bitcoin', 'FX', 'BTC', 'crypto']              dlvr.it       False   \n",
       "4                                    ['BTC']      Twitter Web App       False   \n",
       "\n",
       "    Timestamp         day  tweets  \n",
       "0  1613001544  2021-02-10    3526  \n",
       "1  1613001528  2021-02-10    3526  \n",
       "2  1613001288  2021-02-10    3526  \n",
       "3  1613001273  2021-02-10    3526  \n",
       "4  1613001246  2021-02-10    3526  "
      ]
     },
     "execution_count": 411,
     "metadata": {},
     "output_type": "execute_result"
    }
   ],
   "source": [
    "#df['day'] = df['date'].apply(lambda x: x.date())\n",
    "df['date'] = pd.to_datetime(df.date)\n",
    "df['day'] = df['date'].dt.date\n",
    "df['day'] = df['day'].astype(str)\n",
    "df.head()"
   ]
  },
  {
   "cell_type": "code",
   "execution_count": 338,
   "metadata": {},
   "outputs": [
    {
     "data": {
      "text/plain": [
       "user_name                   object\n",
       "user_location               object\n",
       "user_description            object\n",
       "user_created                object\n",
       "user_followers             float64\n",
       "user_friends               float64\n",
       "user_favourites            float64\n",
       "user_verified                 bool\n",
       "date                datetime64[ns]\n",
       "text                        object\n",
       "hashtags                    object\n",
       "source                      object\n",
       "is_retweet                    bool\n",
       "Timestamp                    int64\n",
       "day                         object\n",
       "dtype: object"
      ]
     },
     "execution_count": 338,
     "metadata": {},
     "output_type": "execute_result"
    }
   ],
   "source": [
    "df.dtypes"
   ]
  },
  {
   "cell_type": "markdown",
   "metadata": {},
   "source": [
    "Calculating the sum of daily tweets"
   ]
  },
  {
   "cell_type": "code",
   "execution_count": 343,
   "metadata": {},
   "outputs": [
    {
     "data": {
      "text/plain": [
       "2021-10-19    63590\n",
       "2021-10-22    54775\n",
       "2021-08-09    53501\n",
       "2021-08-25    47043\n",
       "2021-06-22    45840\n",
       "              ...  \n",
       "2021-02-05     1694\n",
       "2021-02-28     1634\n",
       "2021-07-16     1110\n",
       "2021-04-17      333\n",
       "2021-03-11      217\n",
       "Name: day, Length: 92, dtype: int64"
      ]
     },
     "execution_count": 343,
     "metadata": {},
     "output_type": "execute_result"
    }
   ],
   "source": [
    "df['day'].value_counts()"
   ]
  },
  {
   "cell_type": "markdown",
   "metadata": {},
   "source": [
    "Performance before lambda function:"
   ]
  },
  {
   "cell_type": "markdown",
   "metadata": {},
   "source": [
    "It seems that sending x = '2021-10-19' in df['day'].value_counts()[x] with a lambda function will take too long considering that the dataset have 1751617 rows. "
   ]
  },
  {
   "cell_type": "code",
   "execution_count": 360,
   "metadata": {},
   "outputs": [
    {
     "name": "stdout",
     "output_type": "stream",
     "text": [
      "124 ms ± 2 ms per loop (mean ± std. dev. of 7 runs, 10 loops each)\n"
     ]
    }
   ],
   "source": [
    "%%timeit -n 10\n",
    "df['day'].value_counts()['2021-10-19']"
   ]
  },
  {
   "cell_type": "markdown",
   "metadata": {},
   "source": [
    "Using a dictionary to translate every day with the tweets sum()"
   ]
  },
  {
   "cell_type": "code",
   "execution_count": 361,
   "metadata": {},
   "outputs": [
    {
     "data": {
      "text/html": [
       "<div>\n",
       "<style scoped>\n",
       "    .dataframe tbody tr th:only-of-type {\n",
       "        vertical-align: middle;\n",
       "    }\n",
       "\n",
       "    .dataframe tbody tr th {\n",
       "        vertical-align: top;\n",
       "    }\n",
       "\n",
       "    .dataframe thead th {\n",
       "        text-align: right;\n",
       "    }\n",
       "</style>\n",
       "<table border=\"1\" class=\"dataframe\">\n",
       "  <thead>\n",
       "    <tr style=\"text-align: right;\">\n",
       "      <th></th>\n",
       "      <th>day</th>\n",
       "      <th>counts</th>\n",
       "    </tr>\n",
       "  </thead>\n",
       "  <tbody>\n",
       "    <tr>\n",
       "      <th>0</th>\n",
       "      <td>2021-10-19</td>\n",
       "      <td>63590</td>\n",
       "    </tr>\n",
       "    <tr>\n",
       "      <th>1</th>\n",
       "      <td>2021-10-22</td>\n",
       "      <td>54775</td>\n",
       "    </tr>\n",
       "    <tr>\n",
       "      <th>2</th>\n",
       "      <td>2021-08-09</td>\n",
       "      <td>53501</td>\n",
       "    </tr>\n",
       "    <tr>\n",
       "      <th>3</th>\n",
       "      <td>2021-08-25</td>\n",
       "      <td>47043</td>\n",
       "    </tr>\n",
       "    <tr>\n",
       "      <th>4</th>\n",
       "      <td>2021-06-22</td>\n",
       "      <td>45840</td>\n",
       "    </tr>\n",
       "  </tbody>\n",
       "</table>\n",
       "</div>"
      ],
      "text/plain": [
       "          day  counts\n",
       "0  2021-10-19   63590\n",
       "1  2021-10-22   54775\n",
       "2  2021-08-09   53501\n",
       "3  2021-08-25   47043\n",
       "4  2021-06-22   45840"
      ]
     },
     "execution_count": 361,
     "metadata": {},
     "output_type": "execute_result"
    }
   ],
   "source": [
    "df_dic = df['day'].value_counts().rename_axis('day').to_frame('counts')\n",
    "df_dic.reset_index(level=0, inplace=True)\n",
    "df_dic.head()"
   ]
  },
  {
   "cell_type": "code",
   "execution_count": 366,
   "metadata": {},
   "outputs": [
    {
     "data": {
      "text/plain": [
       "{'2021-10-19': 63590, '2021-10-22': 54775, '2021-08-09': 53501}"
      ]
     },
     "execution_count": 366,
     "metadata": {},
     "output_type": "execute_result"
    }
   ],
   "source": [
    "daily_tweets = df_dic.set_index('day')['counts'].to_dict()\n",
    "dict(list(daily_tweets.items())[:3])"
   ]
  },
  {
   "cell_type": "code",
   "execution_count": 394,
   "metadata": {},
   "outputs": [
    {
     "data": {
      "text/html": [
       "<div>\n",
       "<style scoped>\n",
       "    .dataframe tbody tr th:only-of-type {\n",
       "        vertical-align: middle;\n",
       "    }\n",
       "\n",
       "    .dataframe tbody tr th {\n",
       "        vertical-align: top;\n",
       "    }\n",
       "\n",
       "    .dataframe thead th {\n",
       "        text-align: right;\n",
       "    }\n",
       "</style>\n",
       "<table border=\"1\" class=\"dataframe\">\n",
       "  <thead>\n",
       "    <tr style=\"text-align: right;\">\n",
       "      <th></th>\n",
       "      <th>user_name</th>\n",
       "      <th>user_location</th>\n",
       "      <th>user_description</th>\n",
       "      <th>user_created</th>\n",
       "      <th>user_followers</th>\n",
       "      <th>user_friends</th>\n",
       "      <th>user_favourites</th>\n",
       "      <th>user_verified</th>\n",
       "      <th>date</th>\n",
       "      <th>text</th>\n",
       "      <th>hashtags</th>\n",
       "      <th>source</th>\n",
       "      <th>is_retweet</th>\n",
       "      <th>Timestamp</th>\n",
       "      <th>day</th>\n",
       "      <th>tweets</th>\n",
       "    </tr>\n",
       "  </thead>\n",
       "  <tbody>\n",
       "    <tr>\n",
       "      <th>0</th>\n",
       "      <td>DeSota Wilson</td>\n",
       "      <td>Atlanta, GA</td>\n",
       "      <td>Biz Consultant, real estate, fintech, startups...</td>\n",
       "      <td>2009-04-26 20:05:09</td>\n",
       "      <td>8534.0</td>\n",
       "      <td>7605.0</td>\n",
       "      <td>4838.0</td>\n",
       "      <td>True</td>\n",
       "      <td>2021-02-10 23:59:04</td>\n",
       "      <td>Blue Ridge Bank shares halted by NYSE after #b...</td>\n",
       "      <td>['bitcoin']</td>\n",
       "      <td>Twitter Web App</td>\n",
       "      <td>False</td>\n",
       "      <td>1613001544</td>\n",
       "      <td>2021-02-10</td>\n",
       "      <td>2021-02-10</td>\n",
       "    </tr>\n",
       "    <tr>\n",
       "      <th>1</th>\n",
       "      <td>CryptoND</td>\n",
       "      <td>NaN</td>\n",
       "      <td>😎 BITCOINLIVE is a Dutch platform aimed at inf...</td>\n",
       "      <td>2019-10-17 20:12:10</td>\n",
       "      <td>6769.0</td>\n",
       "      <td>1532.0</td>\n",
       "      <td>25483.0</td>\n",
       "      <td>True</td>\n",
       "      <td>2021-02-10 23:58:48</td>\n",
       "      <td>😎 Today, that's this #Thursday, we will do a \"...</td>\n",
       "      <td>['Thursday', 'Btc', 'wallet', 'security']</td>\n",
       "      <td>Twitter for Android</td>\n",
       "      <td>False</td>\n",
       "      <td>1613001528</td>\n",
       "      <td>2021-02-10</td>\n",
       "      <td>2021-02-10</td>\n",
       "    </tr>\n",
       "    <tr>\n",
       "      <th>2</th>\n",
       "      <td>Tdlmatias</td>\n",
       "      <td>London, England</td>\n",
       "      <td>IM Academy : The best #forex, #SelfEducation, ...</td>\n",
       "      <td>2014-11-10 10:50:37</td>\n",
       "      <td>128.0</td>\n",
       "      <td>332.0</td>\n",
       "      <td>924.0</td>\n",
       "      <td>True</td>\n",
       "      <td>2021-02-10 23:54:48</td>\n",
       "      <td>Guys evening, I have read this article about B...</td>\n",
       "      <td>NaN</td>\n",
       "      <td>Twitter Web App</td>\n",
       "      <td>False</td>\n",
       "      <td>1613001288</td>\n",
       "      <td>2021-02-10</td>\n",
       "      <td>2021-02-10</td>\n",
       "    </tr>\n",
       "    <tr>\n",
       "      <th>3</th>\n",
       "      <td>Crypto is the future</td>\n",
       "      <td>NaN</td>\n",
       "      <td>I will post a lot of buying signals for BTC tr...</td>\n",
       "      <td>2019-09-28 16:48:12</td>\n",
       "      <td>625.0</td>\n",
       "      <td>129.0</td>\n",
       "      <td>14.0</td>\n",
       "      <td>True</td>\n",
       "      <td>2021-02-10 23:54:33</td>\n",
       "      <td>$BTC A big chance in a billion! Price: \\487264...</td>\n",
       "      <td>['Bitcoin', 'FX', 'BTC', 'crypto']</td>\n",
       "      <td>dlvr.it</td>\n",
       "      <td>False</td>\n",
       "      <td>1613001273</td>\n",
       "      <td>2021-02-10</td>\n",
       "      <td>2021-02-10</td>\n",
       "    </tr>\n",
       "    <tr>\n",
       "      <th>4</th>\n",
       "      <td>Alex Kirchmaier 🇦🇹🇸🇪 #FactsSuperspreader</td>\n",
       "      <td>Europa</td>\n",
       "      <td>Co-founder @RENJERJerky | Forbes 30Under30 | I...</td>\n",
       "      <td>2016-02-03 13:15:55</td>\n",
       "      <td>1249.0</td>\n",
       "      <td>1472.0</td>\n",
       "      <td>10482.0</td>\n",
       "      <td>True</td>\n",
       "      <td>2021-02-10 23:54:06</td>\n",
       "      <td>This network is secured by 9 508 nodes as of t...</td>\n",
       "      <td>['BTC']</td>\n",
       "      <td>Twitter Web App</td>\n",
       "      <td>False</td>\n",
       "      <td>1613001246</td>\n",
       "      <td>2021-02-10</td>\n",
       "      <td>2021-02-10</td>\n",
       "    </tr>\n",
       "  </tbody>\n",
       "</table>\n",
       "</div>"
      ],
      "text/plain": [
       "                                  user_name    user_location  \\\n",
       "0                             DeSota Wilson      Atlanta, GA   \n",
       "1                                  CryptoND              NaN   \n",
       "2                                 Tdlmatias  London, England   \n",
       "3                      Crypto is the future              NaN   \n",
       "4  Alex Kirchmaier 🇦🇹🇸🇪 #FactsSuperspreader           Europa   \n",
       "\n",
       "                                    user_description         user_created  \\\n",
       "0  Biz Consultant, real estate, fintech, startups...  2009-04-26 20:05:09   \n",
       "1  😎 BITCOINLIVE is a Dutch platform aimed at inf...  2019-10-17 20:12:10   \n",
       "2  IM Academy : The best #forex, #SelfEducation, ...  2014-11-10 10:50:37   \n",
       "3  I will post a lot of buying signals for BTC tr...  2019-09-28 16:48:12   \n",
       "4  Co-founder @RENJERJerky | Forbes 30Under30 | I...  2016-02-03 13:15:55   \n",
       "\n",
       "   user_followers  user_friends  user_favourites  user_verified  \\\n",
       "0          8534.0        7605.0           4838.0           True   \n",
       "1          6769.0        1532.0          25483.0           True   \n",
       "2           128.0         332.0            924.0           True   \n",
       "3           625.0         129.0             14.0           True   \n",
       "4          1249.0        1472.0          10482.0           True   \n",
       "\n",
       "                 date                                               text  \\\n",
       "0 2021-02-10 23:59:04  Blue Ridge Bank shares halted by NYSE after #b...   \n",
       "1 2021-02-10 23:58:48  😎 Today, that's this #Thursday, we will do a \"...   \n",
       "2 2021-02-10 23:54:48  Guys evening, I have read this article about B...   \n",
       "3 2021-02-10 23:54:33  $BTC A big chance in a billion! Price: \\487264...   \n",
       "4 2021-02-10 23:54:06  This network is secured by 9 508 nodes as of t...   \n",
       "\n",
       "                                    hashtags               source  is_retweet  \\\n",
       "0                                ['bitcoin']      Twitter Web App       False   \n",
       "1  ['Thursday', 'Btc', 'wallet', 'security']  Twitter for Android       False   \n",
       "2                                        NaN      Twitter Web App       False   \n",
       "3         ['Bitcoin', 'FX', 'BTC', 'crypto']              dlvr.it       False   \n",
       "4                                    ['BTC']      Twitter Web App       False   \n",
       "\n",
       "    Timestamp         day      tweets  \n",
       "0  1613001544  2021-02-10  2021-02-10  \n",
       "1  1613001528  2021-02-10  2021-02-10  \n",
       "2  1613001288  2021-02-10  2021-02-10  \n",
       "3  1613001273  2021-02-10  2021-02-10  \n",
       "4  1613001246  2021-02-10  2021-02-10  "
      ]
     },
     "execution_count": 394,
     "metadata": {},
     "output_type": "execute_result"
    }
   ],
   "source": [
    "df['tweets'] = df['day']\n",
    "#df['day']=df['date'].dt.date\n",
    "df.head()"
   ]
  },
  {
   "cell_type": "markdown",
   "metadata": {},
   "source": [
    "Using replace to translate"
   ]
  },
  {
   "cell_type": "code",
   "execution_count": 372,
   "metadata": {},
   "outputs": [
    {
     "name": "stdout",
     "output_type": "stream",
     "text": [
      "6.54 s ± 72.7 ms per loop (mean ± std. dev. of 7 runs, 1 loop each)\n"
     ]
    }
   ],
   "source": [
    "%%timeit -n 1\n",
    "df.replace({\"tweets\": daily_tweets})"
   ]
  },
  {
   "cell_type": "markdown",
   "metadata": {},
   "source": [
    "Using map to translate is the fastest method"
   ]
  },
  {
   "cell_type": "code",
   "execution_count": 373,
   "metadata": {},
   "outputs": [
    {
     "name": "stdout",
     "output_type": "stream",
     "text": [
      "113 ms ± 1.61 ms per loop (mean ± std. dev. of 7 runs, 1 loop each)\n"
     ]
    }
   ],
   "source": [
    "%%timeit -n 1\n",
    "df['tweets'].map(daily_tweets)"
   ]
  },
  {
   "cell_type": "code",
   "execution_count": 408,
   "metadata": {},
   "outputs": [
    {
     "data": {
      "text/html": [
       "<div>\n",
       "<style scoped>\n",
       "    .dataframe tbody tr th:only-of-type {\n",
       "        vertical-align: middle;\n",
       "    }\n",
       "\n",
       "    .dataframe tbody tr th {\n",
       "        vertical-align: top;\n",
       "    }\n",
       "\n",
       "    .dataframe thead th {\n",
       "        text-align: right;\n",
       "    }\n",
       "</style>\n",
       "<table border=\"1\" class=\"dataframe\">\n",
       "  <thead>\n",
       "    <tr style=\"text-align: right;\">\n",
       "      <th></th>\n",
       "      <th>user_name</th>\n",
       "      <th>user_location</th>\n",
       "      <th>user_description</th>\n",
       "      <th>user_created</th>\n",
       "      <th>user_followers</th>\n",
       "      <th>user_friends</th>\n",
       "      <th>user_favourites</th>\n",
       "      <th>user_verified</th>\n",
       "      <th>date</th>\n",
       "      <th>text</th>\n",
       "      <th>hashtags</th>\n",
       "      <th>source</th>\n",
       "      <th>is_retweet</th>\n",
       "      <th>Timestamp</th>\n",
       "      <th>day</th>\n",
       "      <th>tweets</th>\n",
       "    </tr>\n",
       "  </thead>\n",
       "  <tbody>\n",
       "    <tr>\n",
       "      <th>0</th>\n",
       "      <td>DeSota Wilson</td>\n",
       "      <td>Atlanta, GA</td>\n",
       "      <td>Biz Consultant, real estate, fintech, startups...</td>\n",
       "      <td>2009-04-26 20:05:09</td>\n",
       "      <td>8534.0</td>\n",
       "      <td>7605.0</td>\n",
       "      <td>4838.0</td>\n",
       "      <td>True</td>\n",
       "      <td>2021-02-10 23:59:04</td>\n",
       "      <td>Blue Ridge Bank shares halted by NYSE after #b...</td>\n",
       "      <td>['bitcoin']</td>\n",
       "      <td>Twitter Web App</td>\n",
       "      <td>False</td>\n",
       "      <td>1613001544</td>\n",
       "      <td>2021-02-10</td>\n",
       "      <td>3526</td>\n",
       "    </tr>\n",
       "    <tr>\n",
       "      <th>1</th>\n",
       "      <td>CryptoND</td>\n",
       "      <td>NaN</td>\n",
       "      <td>😎 BITCOINLIVE is a Dutch platform aimed at inf...</td>\n",
       "      <td>2019-10-17 20:12:10</td>\n",
       "      <td>6769.0</td>\n",
       "      <td>1532.0</td>\n",
       "      <td>25483.0</td>\n",
       "      <td>True</td>\n",
       "      <td>2021-02-10 23:58:48</td>\n",
       "      <td>😎 Today, that's this #Thursday, we will do a \"...</td>\n",
       "      <td>['Thursday', 'Btc', 'wallet', 'security']</td>\n",
       "      <td>Twitter for Android</td>\n",
       "      <td>False</td>\n",
       "      <td>1613001528</td>\n",
       "      <td>2021-02-10</td>\n",
       "      <td>3526</td>\n",
       "    </tr>\n",
       "    <tr>\n",
       "      <th>2</th>\n",
       "      <td>Tdlmatias</td>\n",
       "      <td>London, England</td>\n",
       "      <td>IM Academy : The best #forex, #SelfEducation, ...</td>\n",
       "      <td>2014-11-10 10:50:37</td>\n",
       "      <td>128.0</td>\n",
       "      <td>332.0</td>\n",
       "      <td>924.0</td>\n",
       "      <td>True</td>\n",
       "      <td>2021-02-10 23:54:48</td>\n",
       "      <td>Guys evening, I have read this article about B...</td>\n",
       "      <td>NaN</td>\n",
       "      <td>Twitter Web App</td>\n",
       "      <td>False</td>\n",
       "      <td>1613001288</td>\n",
       "      <td>2021-02-10</td>\n",
       "      <td>3526</td>\n",
       "    </tr>\n",
       "    <tr>\n",
       "      <th>3</th>\n",
       "      <td>Crypto is the future</td>\n",
       "      <td>NaN</td>\n",
       "      <td>I will post a lot of buying signals for BTC tr...</td>\n",
       "      <td>2019-09-28 16:48:12</td>\n",
       "      <td>625.0</td>\n",
       "      <td>129.0</td>\n",
       "      <td>14.0</td>\n",
       "      <td>True</td>\n",
       "      <td>2021-02-10 23:54:33</td>\n",
       "      <td>$BTC A big chance in a billion! Price: \\487264...</td>\n",
       "      <td>['Bitcoin', 'FX', 'BTC', 'crypto']</td>\n",
       "      <td>dlvr.it</td>\n",
       "      <td>False</td>\n",
       "      <td>1613001273</td>\n",
       "      <td>2021-02-10</td>\n",
       "      <td>3526</td>\n",
       "    </tr>\n",
       "    <tr>\n",
       "      <th>4</th>\n",
       "      <td>Alex Kirchmaier 🇦🇹🇸🇪 #FactsSuperspreader</td>\n",
       "      <td>Europa</td>\n",
       "      <td>Co-founder @RENJERJerky | Forbes 30Under30 | I...</td>\n",
       "      <td>2016-02-03 13:15:55</td>\n",
       "      <td>1249.0</td>\n",
       "      <td>1472.0</td>\n",
       "      <td>10482.0</td>\n",
       "      <td>True</td>\n",
       "      <td>2021-02-10 23:54:06</td>\n",
       "      <td>This network is secured by 9 508 nodes as of t...</td>\n",
       "      <td>['BTC']</td>\n",
       "      <td>Twitter Web App</td>\n",
       "      <td>False</td>\n",
       "      <td>1613001246</td>\n",
       "      <td>2021-02-10</td>\n",
       "      <td>3526</td>\n",
       "    </tr>\n",
       "  </tbody>\n",
       "</table>\n",
       "</div>"
      ],
      "text/plain": [
       "                                  user_name    user_location  \\\n",
       "0                             DeSota Wilson      Atlanta, GA   \n",
       "1                                  CryptoND              NaN   \n",
       "2                                 Tdlmatias  London, England   \n",
       "3                      Crypto is the future              NaN   \n",
       "4  Alex Kirchmaier 🇦🇹🇸🇪 #FactsSuperspreader           Europa   \n",
       "\n",
       "                                    user_description         user_created  \\\n",
       "0  Biz Consultant, real estate, fintech, startups...  2009-04-26 20:05:09   \n",
       "1  😎 BITCOINLIVE is a Dutch platform aimed at inf...  2019-10-17 20:12:10   \n",
       "2  IM Academy : The best #forex, #SelfEducation, ...  2014-11-10 10:50:37   \n",
       "3  I will post a lot of buying signals for BTC tr...  2019-09-28 16:48:12   \n",
       "4  Co-founder @RENJERJerky | Forbes 30Under30 | I...  2016-02-03 13:15:55   \n",
       "\n",
       "   user_followers  user_friends  user_favourites  user_verified  \\\n",
       "0          8534.0        7605.0           4838.0           True   \n",
       "1          6769.0        1532.0          25483.0           True   \n",
       "2           128.0         332.0            924.0           True   \n",
       "3           625.0         129.0             14.0           True   \n",
       "4          1249.0        1472.0          10482.0           True   \n",
       "\n",
       "                 date                                               text  \\\n",
       "0 2021-02-10 23:59:04  Blue Ridge Bank shares halted by NYSE after #b...   \n",
       "1 2021-02-10 23:58:48  😎 Today, that's this #Thursday, we will do a \"...   \n",
       "2 2021-02-10 23:54:48  Guys evening, I have read this article about B...   \n",
       "3 2021-02-10 23:54:33  $BTC A big chance in a billion! Price: \\487264...   \n",
       "4 2021-02-10 23:54:06  This network is secured by 9 508 nodes as of t...   \n",
       "\n",
       "                                    hashtags               source  is_retweet  \\\n",
       "0                                ['bitcoin']      Twitter Web App       False   \n",
       "1  ['Thursday', 'Btc', 'wallet', 'security']  Twitter for Android       False   \n",
       "2                                        NaN      Twitter Web App       False   \n",
       "3         ['Bitcoin', 'FX', 'BTC', 'crypto']              dlvr.it       False   \n",
       "4                                    ['BTC']      Twitter Web App       False   \n",
       "\n",
       "    Timestamp         day  tweets  \n",
       "0  1613001544  2021-02-10    3526  \n",
       "1  1613001528  2021-02-10    3526  \n",
       "2  1613001288  2021-02-10    3526  \n",
       "3  1613001273  2021-02-10    3526  \n",
       "4  1613001246  2021-02-10    3526  "
      ]
     },
     "execution_count": 408,
     "metadata": {},
     "output_type": "execute_result"
    }
   ],
   "source": [
    "df['tweets'] = df['tweets'].map(daily_tweets)\n",
    "df.head()"
   ]
  },
  {
   "cell_type": "code",
   "execution_count": 412,
   "metadata": {},
   "outputs": [
    {
     "data": {
      "text/plain": [
       "63590"
      ]
     },
     "execution_count": 412,
     "metadata": {},
     "output_type": "execute_result"
    }
   ],
   "source": [
    "df['day'].value_counts()['2021-10-19']"
   ]
  },
  {
   "cell_type": "code",
   "execution_count": 382,
   "metadata": {},
   "outputs": [
    {
     "data": {
      "text/plain": [
       "3526"
      ]
     },
     "execution_count": 382,
     "metadata": {},
     "output_type": "execute_result"
    }
   ],
   "source": [
    "df['day'].value_counts()['2021-02-10']"
   ]
  },
  {
   "cell_type": "code",
   "execution_count": 283,
   "metadata": {},
   "outputs": [
    {
     "data": {
      "text/plain": [
       "3278"
      ]
     },
     "execution_count": 283,
     "metadata": {},
     "output_type": "execute_result"
    }
   ],
   "source": [
    "df['day'].value_counts()['2021-02-06']"
   ]
  },
  {
   "cell_type": "code",
   "execution_count": 407,
   "metadata": {},
   "outputs": [
    {
     "data": {
      "text/plain": [
       "2021-10-19    63590\n",
       "2021-10-22    54775\n",
       "2021-08-09    53501\n",
       "2021-08-25    47043\n",
       "2021-06-22    45840\n",
       "              ...  \n",
       "2021-02-05     1694\n",
       "2021-02-28     1634\n",
       "2021-07-16     1110\n",
       "2021-04-17      333\n",
       "2021-03-11      217\n",
       "Name: tweets, Length: 92, dtype: int64"
      ]
     },
     "execution_count": 407,
     "metadata": {},
     "output_type": "execute_result"
    }
   ],
   "source": [
    "#df['tweets'] = df['tweets'].astype('int64')\n",
    "#df.dtypes\n",
    "df['tweets'].value_counts()"
   ]
  },
  {
   "cell_type": "code",
   "execution_count": 410,
   "metadata": {},
   "outputs": [
    {
     "data": {
      "text/plain": [
       "user_name                   object\n",
       "user_location               object\n",
       "user_description            object\n",
       "user_created                object\n",
       "user_followers             float64\n",
       "user_friends               float64\n",
       "user_favourites            float64\n",
       "user_verified                 bool\n",
       "date                datetime64[ns]\n",
       "text                        object\n",
       "hashtags                    object\n",
       "source                      object\n",
       "is_retweet                    bool\n",
       "Timestamp                    int64\n",
       "day                         object\n",
       "tweets                       int64\n",
       "dtype: object"
      ]
     },
     "execution_count": 410,
     "metadata": {},
     "output_type": "execute_result"
    }
   ],
   "source": [
    "df.dtypes"
   ]
  },
  {
   "cell_type": "markdown",
   "metadata": {},
   "source": [
    "# Data Visualization"
   ]
  },
  {
   "cell_type": "code",
   "execution_count": 384,
   "metadata": {},
   "outputs": [],
   "source": [
    "def plot_df(df, x, y, title='', xlabel='', ylabel='', dpi=100):\n",
    "    plt.figure(figsize=(16,5), dpi=dpi)\n",
    "    plt.plot(x, y, color='tab:red')\n",
    "    plt.gca().set(title=title, xlabel=xlabel, ylabel=ylabel)\n",
    "    plt.show()"
   ]
  },
  {
   "cell_type": "code",
   "execution_count": 385,
   "metadata": {},
   "outputs": [
    {
     "data": {
      "image/png": "[encoded data removed]",
      "text/plain": [
       "<Figure size 1600x500 with 1 Axes>"
      ]
     },
     "metadata": {
      "needs_background": "light"
     },
     "output_type": "display_data"
    }
   ],
   "source": [
    "plot_df(df, x=df.date, y=df.tweets, title='BTC Tweets', xlabel='Time', ylabel='Daily Tweets')"
   ]
  },
  {
   "cell_type": "code",
   "execution_count": 413,
   "metadata": {},
   "outputs": [
    {
     "data": {
      "image/png": "[encoded data removed]",
      "text/plain": [
       "<Figure size 1600x500 with 1 Axes>"
      ]
     },
     "metadata": {
      "needs_background": "light"
     },
     "output_type": "display_data"
    }
   ],
   "source": [
    "plot_df(df, x=df.Timestamp, y=df.tweets, title='BTC Tweets', xlabel='Time', ylabel='Daily Tweets')"
   ]
  },
  {
   "cell_type": "markdown",
   "metadata": {},
   "source": [
    "### Checking where is the problem in my plots"
   ]
  },
  {
   "cell_type": "code",
   "execution_count": null,
   "metadata": {},
   "outputs": [],
   "source": [
    "df_history = pd.read_csv('D:\\DataScience\\projects\\Bitcoin\\Bitcoin History\\BTC_History_Cleaned.csv')\n",
    "df_history.head()"
   ]
  },
  {
   "cell_type": "code",
   "execution_count": 390,
   "metadata": {},
   "outputs": [
    {
     "name": "stderr",
     "output_type": "stream",
     "text": [
      "C:\\Users\\JOSEP\\AppData\\Roaming\\Python\\Python39\\site-packages\\IPython\\core\\interactiveshell.py:3441: DtypeWarning: Columns (5,6,7,12) have mixed types.Specify dtype option on import or set low_memory=False.\n",
      "  exec(code_obj, self.user_global_ns, self.user_ns)\n"
     ]
    },
    {
     "data": {
      "text/html": [
       "<div>\n",
       "<style scoped>\n",
       "    .dataframe tbody tr th:only-of-type {\n",
       "        vertical-align: middle;\n",
       "    }\n",
       "\n",
       "    .dataframe tbody tr th {\n",
       "        vertical-align: top;\n",
       "    }\n",
       "\n",
       "    .dataframe thead th {\n",
       "        text-align: right;\n",
       "    }\n",
       "</style>\n",
       "<table border=\"1\" class=\"dataframe\">\n",
       "  <thead>\n",
       "    <tr style=\"text-align: right;\">\n",
       "      <th></th>\n",
       "      <th>user_name</th>\n",
       "      <th>user_location</th>\n",
       "      <th>user_description</th>\n",
       "      <th>user_created</th>\n",
       "      <th>user_followers</th>\n",
       "      <th>user_friends</th>\n",
       "      <th>user_favourites</th>\n",
       "      <th>user_verified</th>\n",
       "      <th>date</th>\n",
       "      <th>text</th>\n",
       "      <th>hashtags</th>\n",
       "      <th>source</th>\n",
       "      <th>is_retweet</th>\n",
       "    </tr>\n",
       "  </thead>\n",
       "  <tbody>\n",
       "    <tr>\n",
       "      <th>0</th>\n",
       "      <td>DeSota Wilson</td>\n",
       "      <td>Atlanta, GA</td>\n",
       "      <td>Biz Consultant, real estate, fintech, startups...</td>\n",
       "      <td>2009-04-26 20:05:09</td>\n",
       "      <td>8534.0</td>\n",
       "      <td>7605</td>\n",
       "      <td>4838</td>\n",
       "      <td>False</td>\n",
       "      <td>2021-02-10 23:59:04</td>\n",
       "      <td>Blue Ridge Bank shares halted by NYSE after #b...</td>\n",
       "      <td>['bitcoin']</td>\n",
       "      <td>Twitter Web App</td>\n",
       "      <td>False</td>\n",
       "    </tr>\n",
       "    <tr>\n",
       "      <th>1</th>\n",
       "      <td>CryptoND</td>\n",
       "      <td>NaN</td>\n",
       "      <td>😎 BITCOINLIVE is a Dutch platform aimed at inf...</td>\n",
       "      <td>2019-10-17 20:12:10</td>\n",
       "      <td>6769.0</td>\n",
       "      <td>1532</td>\n",
       "      <td>25483</td>\n",
       "      <td>False</td>\n",
       "      <td>2021-02-10 23:58:48</td>\n",
       "      <td>😎 Today, that's this #Thursday, we will do a \"...</td>\n",
       "      <td>['Thursday', 'Btc', 'wallet', 'security']</td>\n",
       "      <td>Twitter for Android</td>\n",
       "      <td>False</td>\n",
       "    </tr>\n",
       "    <tr>\n",
       "      <th>2</th>\n",
       "      <td>Tdlmatias</td>\n",
       "      <td>London, England</td>\n",
       "      <td>IM Academy : The best #forex, #SelfEducation, ...</td>\n",
       "      <td>2014-11-10 10:50:37</td>\n",
       "      <td>128.0</td>\n",
       "      <td>332</td>\n",
       "      <td>924</td>\n",
       "      <td>False</td>\n",
       "      <td>2021-02-10 23:54:48</td>\n",
       "      <td>Guys evening, I have read this article about B...</td>\n",
       "      <td>NaN</td>\n",
       "      <td>Twitter Web App</td>\n",
       "      <td>False</td>\n",
       "    </tr>\n",
       "    <tr>\n",
       "      <th>3</th>\n",
       "      <td>Crypto is the future</td>\n",
       "      <td>NaN</td>\n",
       "      <td>I will post a lot of buying signals for BTC tr...</td>\n",
       "      <td>2019-09-28 16:48:12</td>\n",
       "      <td>625.0</td>\n",
       "      <td>129</td>\n",
       "      <td>14</td>\n",
       "      <td>False</td>\n",
       "      <td>2021-02-10 23:54:33</td>\n",
       "      <td>$BTC A big chance in a billion! Price: \\487264...</td>\n",
       "      <td>['Bitcoin', 'FX', 'BTC', 'crypto']</td>\n",
       "      <td>dlvr.it</td>\n",
       "      <td>False</td>\n",
       "    </tr>\n",
       "    <tr>\n",
       "      <th>4</th>\n",
       "      <td>Alex Kirchmaier 🇦🇹🇸🇪 #FactsSuperspreader</td>\n",
       "      <td>Europa</td>\n",
       "      <td>Co-founder @RENJERJerky | Forbes 30Under30 | I...</td>\n",
       "      <td>2016-02-03 13:15:55</td>\n",
       "      <td>1249.0</td>\n",
       "      <td>1472</td>\n",
       "      <td>10482</td>\n",
       "      <td>False</td>\n",
       "      <td>2021-02-10 23:54:06</td>\n",
       "      <td>This network is secured by 9 508 nodes as of t...</td>\n",
       "      <td>['BTC']</td>\n",
       "      <td>Twitter Web App</td>\n",
       "      <td>False</td>\n",
       "    </tr>\n",
       "  </tbody>\n",
       "</table>\n",
       "</div>"
      ],
      "text/plain": [
       "                                  user_name    user_location  \\\n",
       "0                             DeSota Wilson      Atlanta, GA   \n",
       "1                                  CryptoND              NaN   \n",
       "2                                 Tdlmatias  London, England   \n",
       "3                      Crypto is the future              NaN   \n",
       "4  Alex Kirchmaier 🇦🇹🇸🇪 #FactsSuperspreader           Europa   \n",
       "\n",
       "                                    user_description         user_created  \\\n",
       "0  Biz Consultant, real estate, fintech, startups...  2009-04-26 20:05:09   \n",
       "1  😎 BITCOINLIVE is a Dutch platform aimed at inf...  2019-10-17 20:12:10   \n",
       "2  IM Academy : The best #forex, #SelfEducation, ...  2014-11-10 10:50:37   \n",
       "3  I will post a lot of buying signals for BTC tr...  2019-09-28 16:48:12   \n",
       "4  Co-founder @RENJERJerky | Forbes 30Under30 | I...  2016-02-03 13:15:55   \n",
       "\n",
       "   user_followers user_friends user_favourites user_verified  \\\n",
       "0          8534.0         7605            4838         False   \n",
       "1          6769.0         1532           25483         False   \n",
       "2           128.0          332             924         False   \n",
       "3           625.0          129              14         False   \n",
       "4          1249.0         1472           10482         False   \n",
       "\n",
       "                  date                                               text  \\\n",
       "0  2021-02-10 23:59:04  Blue Ridge Bank shares halted by NYSE after #b...   \n",
       "1  2021-02-10 23:58:48  😎 Today, that's this #Thursday, we will do a \"...   \n",
       "2  2021-02-10 23:54:48  Guys evening, I have read this article about B...   \n",
       "3  2021-02-10 23:54:33  $BTC A big chance in a billion! Price: \\487264...   \n",
       "4  2021-02-10 23:54:06  This network is secured by 9 508 nodes as of t...   \n",
       "\n",
       "                                    hashtags               source is_retweet  \n",
       "0                                ['bitcoin']      Twitter Web App      False  \n",
       "1  ['Thursday', 'Btc', 'wallet', 'security']  Twitter for Android      False  \n",
       "2                                        NaN      Twitter Web App      False  \n",
       "3         ['Bitcoin', 'FX', 'BTC', 'crypto']              dlvr.it      False  \n",
       "4                                    ['BTC']      Twitter Web App      False  "
      ]
     },
     "execution_count": 390,
     "metadata": {},
     "output_type": "execute_result"
    }
   ],
   "source": [
    "df_old = pd.read_csv('BTC_Tweets.csv')\n",
    "df_old.head()"
   ]
  },
  {
   "cell_type": "code",
   "execution_count": 393,
   "metadata": {},
   "outputs": [
    {
     "data": {
      "text/html": [
       "<div>\n",
       "<style scoped>\n",
       "    .dataframe tbody tr th:only-of-type {\n",
       "        vertical-align: middle;\n",
       "    }\n",
       "\n",
       "    .dataframe tbody tr th {\n",
       "        vertical-align: top;\n",
       "    }\n",
       "\n",
       "    .dataframe thead th {\n",
       "        text-align: right;\n",
       "    }\n",
       "</style>\n",
       "<table border=\"1\" class=\"dataframe\">\n",
       "  <thead>\n",
       "    <tr style=\"text-align: right;\">\n",
       "      <th></th>\n",
       "      <th>user_name</th>\n",
       "      <th>user_location</th>\n",
       "      <th>user_description</th>\n",
       "      <th>user_created</th>\n",
       "      <th>user_followers</th>\n",
       "      <th>user_friends</th>\n",
       "      <th>user_favourites</th>\n",
       "      <th>user_verified</th>\n",
       "      <th>date</th>\n",
       "      <th>text</th>\n",
       "      <th>hashtags</th>\n",
       "      <th>source</th>\n",
       "      <th>is_retweet</th>\n",
       "      <th>day</th>\n",
       "    </tr>\n",
       "  </thead>\n",
       "  <tbody>\n",
       "    <tr>\n",
       "      <th>0</th>\n",
       "      <td>DeSota Wilson</td>\n",
       "      <td>Atlanta, GA</td>\n",
       "      <td>Biz Consultant, real estate, fintech, startups...</td>\n",
       "      <td>2009-04-26 20:05:09</td>\n",
       "      <td>8534.0</td>\n",
       "      <td>7605</td>\n",
       "      <td>4838</td>\n",
       "      <td>False</td>\n",
       "      <td>2021-02-10 23:59:04</td>\n",
       "      <td>Blue Ridge Bank shares halted by NYSE after #b...</td>\n",
       "      <td>['bitcoin']</td>\n",
       "      <td>Twitter Web App</td>\n",
       "      <td>False</td>\n",
       "      <td>2021-02-10</td>\n",
       "    </tr>\n",
       "    <tr>\n",
       "      <th>1</th>\n",
       "      <td>CryptoND</td>\n",
       "      <td>NaN</td>\n",
       "      <td>😎 BITCOINLIVE is a Dutch platform aimed at inf...</td>\n",
       "      <td>2019-10-17 20:12:10</td>\n",
       "      <td>6769.0</td>\n",
       "      <td>1532</td>\n",
       "      <td>25483</td>\n",
       "      <td>False</td>\n",
       "      <td>2021-02-10 23:58:48</td>\n",
       "      <td>😎 Today, that's this #Thursday, we will do a \"...</td>\n",
       "      <td>['Thursday', 'Btc', 'wallet', 'security']</td>\n",
       "      <td>Twitter for Android</td>\n",
       "      <td>False</td>\n",
       "      <td>2021-02-10</td>\n",
       "    </tr>\n",
       "    <tr>\n",
       "      <th>2</th>\n",
       "      <td>Tdlmatias</td>\n",
       "      <td>London, England</td>\n",
       "      <td>IM Academy : The best #forex, #SelfEducation, ...</td>\n",
       "      <td>2014-11-10 10:50:37</td>\n",
       "      <td>128.0</td>\n",
       "      <td>332</td>\n",
       "      <td>924</td>\n",
       "      <td>False</td>\n",
       "      <td>2021-02-10 23:54:48</td>\n",
       "      <td>Guys evening, I have read this article about B...</td>\n",
       "      <td>NaN</td>\n",
       "      <td>Twitter Web App</td>\n",
       "      <td>False</td>\n",
       "      <td>2021-02-10</td>\n",
       "    </tr>\n",
       "    <tr>\n",
       "      <th>3</th>\n",
       "      <td>Crypto is the future</td>\n",
       "      <td>NaN</td>\n",
       "      <td>I will post a lot of buying signals for BTC tr...</td>\n",
       "      <td>2019-09-28 16:48:12</td>\n",
       "      <td>625.0</td>\n",
       "      <td>129</td>\n",
       "      <td>14</td>\n",
       "      <td>False</td>\n",
       "      <td>2021-02-10 23:54:33</td>\n",
       "      <td>$BTC A big chance in a billion! Price: \\487264...</td>\n",
       "      <td>['Bitcoin', 'FX', 'BTC', 'crypto']</td>\n",
       "      <td>dlvr.it</td>\n",
       "      <td>False</td>\n",
       "      <td>2021-02-10</td>\n",
       "    </tr>\n",
       "    <tr>\n",
       "      <th>4</th>\n",
       "      <td>Alex Kirchmaier 🇦🇹🇸🇪 #FactsSuperspreader</td>\n",
       "      <td>Europa</td>\n",
       "      <td>Co-founder @RENJERJerky | Forbes 30Under30 | I...</td>\n",
       "      <td>2016-02-03 13:15:55</td>\n",
       "      <td>1249.0</td>\n",
       "      <td>1472</td>\n",
       "      <td>10482</td>\n",
       "      <td>False</td>\n",
       "      <td>2021-02-10 23:54:06</td>\n",
       "      <td>This network is secured by 9 508 nodes as of t...</td>\n",
       "      <td>['BTC']</td>\n",
       "      <td>Twitter Web App</td>\n",
       "      <td>False</td>\n",
       "      <td>2021-02-10</td>\n",
       "    </tr>\n",
       "  </tbody>\n",
       "</table>\n",
       "</div>"
      ],
      "text/plain": [
       "                                  user_name    user_location  \\\n",
       "0                             DeSota Wilson      Atlanta, GA   \n",
       "1                                  CryptoND              NaN   \n",
       "2                                 Tdlmatias  London, England   \n",
       "3                      Crypto is the future              NaN   \n",
       "4  Alex Kirchmaier 🇦🇹🇸🇪 #FactsSuperspreader           Europa   \n",
       "\n",
       "                                    user_description         user_created  \\\n",
       "0  Biz Consultant, real estate, fintech, startups...  2009-04-26 20:05:09   \n",
       "1  😎 BITCOINLIVE is a Dutch platform aimed at inf...  2019-10-17 20:12:10   \n",
       "2  IM Academy : The best #forex, #SelfEducation, ...  2014-11-10 10:50:37   \n",
       "3  I will post a lot of buying signals for BTC tr...  2019-09-28 16:48:12   \n",
       "4  Co-founder @RENJERJerky | Forbes 30Under30 | I...  2016-02-03 13:15:55   \n",
       "\n",
       "   user_followers user_friends user_favourites user_verified  \\\n",
       "0          8534.0         7605            4838         False   \n",
       "1          6769.0         1532           25483         False   \n",
       "2           128.0          332             924         False   \n",
       "3           625.0          129              14         False   \n",
       "4          1249.0         1472           10482         False   \n",
       "\n",
       "                 date                                               text  \\\n",
       "0 2021-02-10 23:59:04  Blue Ridge Bank shares halted by NYSE after #b...   \n",
       "1 2021-02-10 23:58:48  😎 Today, that's this #Thursday, we will do a \"...   \n",
       "2 2021-02-10 23:54:48  Guys evening, I have read this article about B...   \n",
       "3 2021-02-10 23:54:33  $BTC A big chance in a billion! Price: \\487264...   \n",
       "4 2021-02-10 23:54:06  This network is secured by 9 508 nodes as of t...   \n",
       "\n",
       "                                    hashtags               source is_retweet  \\\n",
       "0                                ['bitcoin']      Twitter Web App      False   \n",
       "1  ['Thursday', 'Btc', 'wallet', 'security']  Twitter for Android      False   \n",
       "2                                        NaN      Twitter Web App      False   \n",
       "3         ['Bitcoin', 'FX', 'BTC', 'crypto']              dlvr.it      False   \n",
       "4                                    ['BTC']      Twitter Web App      False   \n",
       "\n",
       "          day  \n",
       "0  2021-02-10  \n",
       "1  2021-02-10  \n",
       "2  2021-02-10  \n",
       "3  2021-02-10  \n",
       "4  2021-02-10  "
      ]
     },
     "execution_count": 393,
     "metadata": {},
     "output_type": "execute_result"
    }
   ],
   "source": [
    "#df['user_friends_numeric'] = pd.to_numeric(df['user_friends'], errors='coerce')\n",
    "#df.loc[df['user_friends_numeric'].isna(), :]\n",
    "\n",
    "df_old['date'] = pd.to_datetime(df_old.date, errors='coerce')\n",
    "df_old['day'] = df_old['date'].dt.date\n",
    "df_old['day'] = df_old['day'].astype(str)\n",
    "df_old.head()\n",
    "#f_old.apply(lambda x: df_old['date'])\n"
   ]
  },
  {
   "cell_type": "code",
   "execution_count": 399,
   "metadata": {},
   "outputs": [
    {
     "data": {
      "text/html": [
       "<div>\n",
       "<style scoped>\n",
       "    .dataframe tbody tr th:only-of-type {\n",
       "        vertical-align: middle;\n",
       "    }\n",
       "\n",
       "    .dataframe tbody tr th {\n",
       "        vertical-align: top;\n",
       "    }\n",
       "\n",
       "    .dataframe thead th {\n",
       "        text-align: right;\n",
       "    }\n",
       "</style>\n",
       "<table border=\"1\" class=\"dataframe\">\n",
       "  <thead>\n",
       "    <tr style=\"text-align: right;\">\n",
       "      <th></th>\n",
       "      <th>user_name</th>\n",
       "      <th>user_location</th>\n",
       "      <th>user_description</th>\n",
       "      <th>user_created</th>\n",
       "      <th>user_followers</th>\n",
       "      <th>user_friends</th>\n",
       "      <th>user_favourites</th>\n",
       "      <th>user_verified</th>\n",
       "      <th>date</th>\n",
       "      <th>text</th>\n",
       "      <th>hashtags</th>\n",
       "      <th>source</th>\n",
       "      <th>is_retweet</th>\n",
       "      <th>day</th>\n",
       "      <th>has_tweet</th>\n",
       "    </tr>\n",
       "  </thead>\n",
       "  <tbody>\n",
       "    <tr>\n",
       "      <th>0</th>\n",
       "      <td>DeSota Wilson</td>\n",
       "      <td>Atlanta, GA</td>\n",
       "      <td>Biz Consultant, real estate, fintech, startups...</td>\n",
       "      <td>2009-04-26 20:05:09</td>\n",
       "      <td>8534.0</td>\n",
       "      <td>7605</td>\n",
       "      <td>4838</td>\n",
       "      <td>False</td>\n",
       "      <td>2021-02-10 23:59:04</td>\n",
       "      <td>Blue Ridge Bank shares halted by NYSE after #b...</td>\n",
       "      <td>['bitcoin']</td>\n",
       "      <td>Twitter Web App</td>\n",
       "      <td>False</td>\n",
       "      <td>2021-02-10</td>\n",
       "      <td>1</td>\n",
       "    </tr>\n",
       "    <tr>\n",
       "      <th>1</th>\n",
       "      <td>CryptoND</td>\n",
       "      <td>NaN</td>\n",
       "      <td>😎 BITCOINLIVE is a Dutch platform aimed at inf...</td>\n",
       "      <td>2019-10-17 20:12:10</td>\n",
       "      <td>6769.0</td>\n",
       "      <td>1532</td>\n",
       "      <td>25483</td>\n",
       "      <td>False</td>\n",
       "      <td>2021-02-10 23:58:48</td>\n",
       "      <td>😎 Today, that's this #Thursday, we will do a \"...</td>\n",
       "      <td>['Thursday', 'Btc', 'wallet', 'security']</td>\n",
       "      <td>Twitter for Android</td>\n",
       "      <td>False</td>\n",
       "      <td>2021-02-10</td>\n",
       "      <td>1</td>\n",
       "    </tr>\n",
       "    <tr>\n",
       "      <th>2</th>\n",
       "      <td>Tdlmatias</td>\n",
       "      <td>London, England</td>\n",
       "      <td>IM Academy : The best #forex, #SelfEducation, ...</td>\n",
       "      <td>2014-11-10 10:50:37</td>\n",
       "      <td>128.0</td>\n",
       "      <td>332</td>\n",
       "      <td>924</td>\n",
       "      <td>False</td>\n",
       "      <td>2021-02-10 23:54:48</td>\n",
       "      <td>Guys evening, I have read this article about B...</td>\n",
       "      <td>NaN</td>\n",
       "      <td>Twitter Web App</td>\n",
       "      <td>False</td>\n",
       "      <td>2021-02-10</td>\n",
       "      <td>1</td>\n",
       "    </tr>\n",
       "    <tr>\n",
       "      <th>3</th>\n",
       "      <td>Crypto is the future</td>\n",
       "      <td>NaN</td>\n",
       "      <td>I will post a lot of buying signals for BTC tr...</td>\n",
       "      <td>2019-09-28 16:48:12</td>\n",
       "      <td>625.0</td>\n",
       "      <td>129</td>\n",
       "      <td>14</td>\n",
       "      <td>False</td>\n",
       "      <td>2021-02-10 23:54:33</td>\n",
       "      <td>$BTC A big chance in a billion! Price: \\487264...</td>\n",
       "      <td>['Bitcoin', 'FX', 'BTC', 'crypto']</td>\n",
       "      <td>dlvr.it</td>\n",
       "      <td>False</td>\n",
       "      <td>2021-02-10</td>\n",
       "      <td>1</td>\n",
       "    </tr>\n",
       "    <tr>\n",
       "      <th>4</th>\n",
       "      <td>Alex Kirchmaier 🇦🇹🇸🇪 #FactsSuperspreader</td>\n",
       "      <td>Europa</td>\n",
       "      <td>Co-founder @RENJERJerky | Forbes 30Under30 | I...</td>\n",
       "      <td>2016-02-03 13:15:55</td>\n",
       "      <td>1249.0</td>\n",
       "      <td>1472</td>\n",
       "      <td>10482</td>\n",
       "      <td>False</td>\n",
       "      <td>2021-02-10 23:54:06</td>\n",
       "      <td>This network is secured by 9 508 nodes as of t...</td>\n",
       "      <td>['BTC']</td>\n",
       "      <td>Twitter Web App</td>\n",
       "      <td>False</td>\n",
       "      <td>2021-02-10</td>\n",
       "      <td>1</td>\n",
       "    </tr>\n",
       "  </tbody>\n",
       "</table>\n",
       "</div>"
      ],
      "text/plain": [
       "                                  user_name    user_location  \\\n",
       "0                             DeSota Wilson      Atlanta, GA   \n",
       "1                                  CryptoND              NaN   \n",
       "2                                 Tdlmatias  London, England   \n",
       "3                      Crypto is the future              NaN   \n",
       "4  Alex Kirchmaier 🇦🇹🇸🇪 #FactsSuperspreader           Europa   \n",
       "\n",
       "                                    user_description         user_created  \\\n",
       "0  Biz Consultant, real estate, fintech, startups...  2009-04-26 20:05:09   \n",
       "1  😎 BITCOINLIVE is a Dutch platform aimed at inf...  2019-10-17 20:12:10   \n",
       "2  IM Academy : The best #forex, #SelfEducation, ...  2014-11-10 10:50:37   \n",
       "3  I will post a lot of buying signals for BTC tr...  2019-09-28 16:48:12   \n",
       "4  Co-founder @RENJERJerky | Forbes 30Under30 | I...  2016-02-03 13:15:55   \n",
       "\n",
       "   user_followers user_friends user_favourites user_verified  \\\n",
       "0          8534.0         7605            4838         False   \n",
       "1          6769.0         1532           25483         False   \n",
       "2           128.0          332             924         False   \n",
       "3           625.0          129              14         False   \n",
       "4          1249.0         1472           10482         False   \n",
       "\n",
       "                 date                                               text  \\\n",
       "0 2021-02-10 23:59:04  Blue Ridge Bank shares halted by NYSE after #b...   \n",
       "1 2021-02-10 23:58:48  😎 Today, that's this #Thursday, we will do a \"...   \n",
       "2 2021-02-10 23:54:48  Guys evening, I have read this article about B...   \n",
       "3 2021-02-10 23:54:33  $BTC A big chance in a billion! Price: \\487264...   \n",
       "4 2021-02-10 23:54:06  This network is secured by 9 508 nodes as of t...   \n",
       "\n",
       "                                    hashtags               source is_retweet  \\\n",
       "0                                ['bitcoin']      Twitter Web App      False   \n",
       "1  ['Thursday', 'Btc', 'wallet', 'security']  Twitter for Android      False   \n",
       "2                                        NaN      Twitter Web App      False   \n",
       "3         ['Bitcoin', 'FX', 'BTC', 'crypto']              dlvr.it      False   \n",
       "4                                    ['BTC']      Twitter Web App      False   \n",
       "\n",
       "          day  has_tweet  \n",
       "0  2021-02-10          1  \n",
       "1  2021-02-10          1  \n",
       "2  2021-02-10          1  \n",
       "3  2021-02-10          1  \n",
       "4  2021-02-10          1  "
      ]
     },
     "execution_count": 399,
     "metadata": {},
     "output_type": "execute_result"
    }
   ],
   "source": [
    "df_old['has_tweet'] = df_old.apply(lambda x: 1, axis=1)\n",
    "df_old.head()"
   ]
  },
  {
   "cell_type": "code",
   "execution_count": 400,
   "metadata": {},
   "outputs": [
    {
     "data": {
      "text/plain": [
       "False    1751617\n",
       "Name: date, dtype: int64"
      ]
     },
     "execution_count": 400,
     "metadata": {},
     "output_type": "execute_result"
    }
   ],
   "source": [
    "df_old.dropna(subset=['date'], inplace=True)\n",
    "df_old['date'].isna().value_counts()"
   ]
  },
  {
   "cell_type": "markdown",
   "metadata": {},
   "source": [
    "### This time I will use seaborn and check if there is a problem with the dates"
   ]
  },
  {
   "cell_type": "markdown",
   "metadata": {},
   "source": [
    "Plotting tweets vs date with old dataset"
   ]
  },
  {
   "cell_type": "code",
   "execution_count": 426,
   "metadata": {},
   "outputs": [
    {
     "data": {
      "image/png": "[encoded data removed]",
      "text/plain": [
       "<Figure size 2160x720 with 1 Axes>"
      ]
     },
     "metadata": {
      "needs_background": "light"
     },
     "output_type": "display_data"
    }
   ],
   "source": [
    "sns.relplot(x= df_old['date'].dt.date, y='has_tweet',  data= df_old).figure.set_size_inches(30,10)"
   ]
  },
  {
   "cell_type": "markdown",
   "metadata": {},
   "source": [
    "Plotting tweet count vs date with cleaned dataset"
   ]
  },
  {
   "cell_type": "code",
   "execution_count": 429,
   "metadata": {},
   "outputs": [
    {
     "data": {
      "image/png": "[encoded data removed]",
      "text/plain": [
       "<Figure size 2160x720 with 1 Axes>"
      ]
     },
     "metadata": {
      "needs_background": "light"
     },
     "output_type": "display_data"
    }
   ],
   "source": [
    "sns.relplot(x= df['date'].dt.date, y='tweets', kind='line', data= df).figure.set_size_inches(30,10)"
   ]
  },
  {
   "cell_type": "markdown",
   "metadata": {},
   "source": [
    "Comparing data from both datasets just to check if I did something wrong with the null values"
   ]
  },
  {
   "cell_type": "code",
   "execution_count": 435,
   "metadata": {},
   "outputs": [
    {
     "data": {
      "image/png": "[encoded data removed]",
      "text/plain": [
       "<Figure size 2160x720 with 2 Axes>"
      ]
     },
     "metadata": {
      "needs_background": "light"
     },
     "output_type": "display_data"
    }
   ],
   "source": [
    "fig, axs = plt.subplots(ncols=2)\n",
    "sns.scatterplot(x= df['date'].dt.date, y='tweets', data= df, ax=axs[0]).figure.set_size_inches(30,10)\n",
    "sns.scatterplot(x= df_old['date'].dt.date, y='has_tweet',  data= df_old, ax=axs[1]).figure.set_size_inches(30,10)"
   ]
  },
  {
   "cell_type": "code",
   "execution_count": 450,
   "metadata": {},
   "outputs": [
    {
     "data": {
      "text/plain": [
       "<AxesSubplot:xlabel='date', ylabel='tweets'>"
      ]
     },
     "execution_count": 450,
     "metadata": {},
     "output_type": "execute_result"
    },
    {
     "data": {
      "image/png": "[encoded data removed]",
      "text/plain": [
       "<Figure size 2160x720 with 1 Axes>"
      ]
     },
     "metadata": {
      "needs_background": "light"
     },
     "output_type": "display_data"
    }
   ],
   "source": [
    "fig, axs = plt.subplots(1, 1, sharex=True, figsize=(30,10))\n",
    "ax = sns.scatterplot(x= df['date'].dt.date, y='tweets', data= df)\n",
    "sns.scatterplot(x= df_old['date'].dt.date, y='has_tweet',  data= df_old, ax=ax)"
   ]
  },
  {
   "cell_type": "code",
   "execution_count": 453,
   "metadata": {},
   "outputs": [
    {
     "data": {
      "text/plain": [
       "<AxesSubplot:xlabel='date', ylabel='tweets'>"
      ]
     },
     "execution_count": 453,
     "metadata": {},
     "output_type": "execute_result"
    },
    {
     "data": {
      "image/png": "[encoded data removed]",
      "text/plain": [
       "<Figure size 2160x720 with 1 Axes>"
      ]
     },
     "metadata": {
      "needs_background": "light"
     },
     "output_type": "display_data"
    }
   ],
   "source": [
    "fig, axs = plt.subplots(1, 1, sharex=True, figsize=(30,10))\n",
    "ax = sns.lineplot(x= df['date'].dt.date, y='tweets', data= df)\n",
    "sns.scatterplot(x= df_old['date'].dt.date, y='has_tweet', color = '0.2' ,data= df_old, ax=ax)"
   ]
  },
  {
   "cell_type": "code",
   "execution_count": 458,
   "metadata": {},
   "outputs": [
    {
     "data": {
      "text/plain": [
       "<AxesSubplot:xlabel='date', ylabel='tweets'>"
      ]
     },
     "execution_count": 458,
     "metadata": {},
     "output_type": "execute_result"
    },
    {
     "data": {
      "image/png": "[encoded data removed]",
      "text/plain": [
       "<Figure size 2160x720 with 1 Axes>"
      ]
     },
     "metadata": {
      "needs_background": "light"
     },
     "output_type": "display_data"
    }
   ],
   "source": [
    "fig, axs = plt.subplots(1, 1, sharex=True, figsize=(30,10))\n",
    "ax = sns.scatterplot(x= df['date'].dt.date, y='tweets',  data= df)\n",
    "sns.scatterplot(x= df_old['date'].dt.date, y='has_tweet', color = '0.2' ,data= df_old, ax=ax)"
   ]
  },
  {
   "cell_type": "markdown",
   "metadata": {},
   "source": [
    "## The dataset has missing data during certain dates, so I don't feel safe to do a linear regression. \n",
    "#### The only thing I can do is get a new dataset without missing that many values."
   ]
  },
  {
   "cell_type": "markdown",
   "metadata": {},
   "source": [
    "# Natural Language Processing"
   ]
  },
  {
   "cell_type": "markdown",
   "metadata": {},
   "source": [
    "WIP"
   ]
  },
  {
   "cell_type": "code",
   "execution_count": 387,
   "metadata": {},
   "outputs": [],
   "source": [
    "df.to_csv('BTC_Tweets_Cleaned.csv')"
   ]
  }
 ],
 "metadata": {
  "interpreter": {
   "hash": "63fd5069d213b44bf678585dea6b12cceca9941eaf7f819626cde1f2670de90d"
  },
  "kernelspec": {
   "display_name": "Python 3.9.1 64-bit",
   "language": "python",
   "name": "python3"
  },
  "language_info": {
   "codemirror_mode": {
    "name": "ipython",
    "version": 3
   },
   "file_extension": ".py",
   "mimetype": "text/x-python",
   "name": "python",
   "nbconvert_exporter": "python",
   "pygments_lexer": "ipython3",
   "version": "3.9.1"
  },
  "orig_nbformat": 4
 },
 "nbformat": 4,
 "nbformat_minor": 2
}
